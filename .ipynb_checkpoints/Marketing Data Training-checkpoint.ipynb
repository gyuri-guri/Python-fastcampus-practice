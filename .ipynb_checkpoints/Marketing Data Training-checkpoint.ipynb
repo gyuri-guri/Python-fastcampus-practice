{
 "cells": [
  {
   "cell_type": "code",
   "execution_count": 2,
   "metadata": {},
   "outputs": [],
   "source": [
    "import pandas as pd\n",
    "from pandas import DataFrame\n",
    "from pandas import Series\n",
    "import matplotlib.pyplot as plt"
   ]
  },
  {
   "cell_type": "markdown",
   "metadata": {},
   "source": [
    "## 데이터 불러오기\n",
    "\n",
    "Fast Campus 머신러닝과 데이터분석 A-Z 과정에서 제공하는 검색광고 데이터 이용\n",
    "\n",
    "출처 : 네이버, 구글, 페이스북 등의 광고관리시스템"
   ]
  },
  {
   "cell_type": "markdown",
   "metadata": {},
   "source": [
    "**불필요한 첫 행을 지우고 불러오기 (skiprows 이용)**\n",
    "\n",
    "skiprows = [0] : 데이터의 첫번째 행 삭제   \n",
    "skiprows = [0, 1] : 데이터의 첫번째 ~ 두번째 행 삭제"
   ]
  },
  {
   "cell_type": "code",
   "execution_count": 3,
   "metadata": {},
   "outputs": [
    {
     "data": {
      "text/html": [
       "<div>\n",
       "<style scoped>\n",
       "    .dataframe tbody tr th:only-of-type {\n",
       "        vertical-align: middle;\n",
       "    }\n",
       "\n",
       "    .dataframe tbody tr th {\n",
       "        vertical-align: top;\n",
       "    }\n",
       "\n",
       "    .dataframe thead th {\n",
       "        text-align: right;\n",
       "    }\n",
       "</style>\n",
       "<table border=\"1\" class=\"dataframe\">\n",
       "  <thead>\n",
       "    <tr style=\"text-align: right;\">\n",
       "      <th></th>\n",
       "      <th>광고그룹</th>\n",
       "      <th>키워드</th>\n",
       "      <th>노출수</th>\n",
       "      <th>클릭수</th>\n",
       "      <th>클릭률(%)</th>\n",
       "      <th>평균클릭비용(VAT포함,원)</th>\n",
       "      <th>총비용(VAT포함,원)</th>\n",
       "    </tr>\n",
       "  </thead>\n",
       "  <tbody>\n",
       "    <tr>\n",
       "      <th>0</th>\n",
       "      <td>올인원 패키지 : 디자인 툴_파워컨텐츠_포토샵</td>\n",
       "      <td>-</td>\n",
       "      <td>2319456</td>\n",
       "      <td>9606.0</td>\n",
       "      <td>0.414149</td>\n",
       "      <td>261.549448</td>\n",
       "      <td>2512444</td>\n",
       "    </tr>\n",
       "    <tr>\n",
       "      <th>1</th>\n",
       "      <td>올인원 패키지 : 업무자동화_VBA</td>\n",
       "      <td>-</td>\n",
       "      <td>767491</td>\n",
       "      <td>8058.0</td>\n",
       "      <td>1.049915</td>\n",
       "      <td>295.974808</td>\n",
       "      <td>2384965</td>\n",
       "    </tr>\n",
       "    <tr>\n",
       "      <th>2</th>\n",
       "      <td>ㅍAOP 전체_중복키워드_디자인(삭제)</td>\n",
       "      <td>일러스트</td>\n",
       "      <td>1137840</td>\n",
       "      <td>324.0</td>\n",
       "      <td>0.028475</td>\n",
       "      <td>4841.663580</td>\n",
       "      <td>1568699</td>\n",
       "    </tr>\n",
       "    <tr>\n",
       "      <th>3</th>\n",
       "      <td>올인원 패키지 : 데이터 분석 입문 온라인_파콘</td>\n",
       "      <td>-</td>\n",
       "      <td>694106</td>\n",
       "      <td>1863.6</td>\n",
       "      <td>0.268489</td>\n",
       "      <td>630.593475</td>\n",
       "      <td>1175174</td>\n",
       "    </tr>\n",
       "    <tr>\n",
       "      <th>4</th>\n",
       "      <td>3. html</td>\n",
       "      <td>HTML</td>\n",
       "      <td>9626374</td>\n",
       "      <td>813.6</td>\n",
       "      <td>0.008452</td>\n",
       "      <td>1408.435349</td>\n",
       "      <td>1145903</td>\n",
       "    </tr>\n",
       "  </tbody>\n",
       "</table>\n",
       "</div>"
      ],
      "text/plain": [
       "                         광고그룹   키워드      노출수     클릭수    클릭률(%)  \\\n",
       "0   올인원 패키지 : 디자인 툴_파워컨텐츠_포토샵     -  2319456  9606.0  0.414149   \n",
       "1         올인원 패키지 : 업무자동화_VBA     -   767491  8058.0  1.049915   \n",
       "2       ㅍAOP 전체_중복키워드_디자인(삭제)  일러스트  1137840   324.0  0.028475   \n",
       "3  올인원 패키지 : 데이터 분석 입문 온라인_파콘     -   694106  1863.6  0.268489   \n",
       "4                     3. html  HTML  9626374   813.6  0.008452   \n",
       "\n",
       "   평균클릭비용(VAT포함,원)  총비용(VAT포함,원)  \n",
       "0       261.549448       2512444  \n",
       "1       295.974808       2384965  \n",
       "2      4841.663580       1568699  \n",
       "3       630.593475       1175174  \n",
       "4      1408.435349       1145903  "
      ]
     },
     "execution_count": 3,
     "metadata": {},
     "output_type": "execute_result"
    }
   ],
   "source": [
    "ad = pd.read_excel(\"C:/Users/Gyu-ri Kim/Desktop/Tangerri/data/네이버보고서.xls\", skiprows = [0])\n",
    "ad.head()"
   ]
  },
  {
   "cell_type": "markdown",
   "metadata": {},
   "source": [
    " ## 데이터 전처리\n",
    " \n",
    " #### 결측치 확인"
   ]
  },
  {
   "cell_type": "code",
   "execution_count": 4,
   "metadata": {},
   "outputs": [
    {
     "data": {
      "text/html": [
       "<div>\n",
       "<style scoped>\n",
       "    .dataframe tbody tr th:only-of-type {\n",
       "        vertical-align: middle;\n",
       "    }\n",
       "\n",
       "    .dataframe tbody tr th {\n",
       "        vertical-align: top;\n",
       "    }\n",
       "\n",
       "    .dataframe thead th {\n",
       "        text-align: right;\n",
       "    }\n",
       "</style>\n",
       "<table border=\"1\" class=\"dataframe\">\n",
       "  <thead>\n",
       "    <tr style=\"text-align: right;\">\n",
       "      <th></th>\n",
       "      <th>광고그룹</th>\n",
       "      <th>키워드</th>\n",
       "      <th>노출수</th>\n",
       "      <th>클릭수</th>\n",
       "      <th>클릭률(%)</th>\n",
       "      <th>평균클릭비용(VAT포함,원)</th>\n",
       "      <th>총비용(VAT포함,원)</th>\n",
       "    </tr>\n",
       "  </thead>\n",
       "  <tbody>\n",
       "    <tr>\n",
       "      <th>0</th>\n",
       "      <td>False</td>\n",
       "      <td>False</td>\n",
       "      <td>False</td>\n",
       "      <td>False</td>\n",
       "      <td>False</td>\n",
       "      <td>False</td>\n",
       "      <td>False</td>\n",
       "    </tr>\n",
       "    <tr>\n",
       "      <th>1</th>\n",
       "      <td>False</td>\n",
       "      <td>False</td>\n",
       "      <td>False</td>\n",
       "      <td>False</td>\n",
       "      <td>False</td>\n",
       "      <td>False</td>\n",
       "      <td>False</td>\n",
       "    </tr>\n",
       "    <tr>\n",
       "      <th>2</th>\n",
       "      <td>False</td>\n",
       "      <td>False</td>\n",
       "      <td>False</td>\n",
       "      <td>False</td>\n",
       "      <td>False</td>\n",
       "      <td>False</td>\n",
       "      <td>False</td>\n",
       "    </tr>\n",
       "    <tr>\n",
       "      <th>3</th>\n",
       "      <td>False</td>\n",
       "      <td>False</td>\n",
       "      <td>False</td>\n",
       "      <td>False</td>\n",
       "      <td>False</td>\n",
       "      <td>False</td>\n",
       "      <td>False</td>\n",
       "    </tr>\n",
       "    <tr>\n",
       "      <th>4</th>\n",
       "      <td>False</td>\n",
       "      <td>False</td>\n",
       "      <td>False</td>\n",
       "      <td>False</td>\n",
       "      <td>False</td>\n",
       "      <td>False</td>\n",
       "      <td>False</td>\n",
       "    </tr>\n",
       "    <tr>\n",
       "      <th>...</th>\n",
       "      <td>...</td>\n",
       "      <td>...</td>\n",
       "      <td>...</td>\n",
       "      <td>...</td>\n",
       "      <td>...</td>\n",
       "      <td>...</td>\n",
       "      <td>...</td>\n",
       "    </tr>\n",
       "    <tr>\n",
       "      <th>1376</th>\n",
       "      <td>False</td>\n",
       "      <td>False</td>\n",
       "      <td>False</td>\n",
       "      <td>False</td>\n",
       "      <td>False</td>\n",
       "      <td>False</td>\n",
       "      <td>False</td>\n",
       "    </tr>\n",
       "    <tr>\n",
       "      <th>1377</th>\n",
       "      <td>False</td>\n",
       "      <td>False</td>\n",
       "      <td>False</td>\n",
       "      <td>False</td>\n",
       "      <td>False</td>\n",
       "      <td>False</td>\n",
       "      <td>False</td>\n",
       "    </tr>\n",
       "    <tr>\n",
       "      <th>1378</th>\n",
       "      <td>False</td>\n",
       "      <td>False</td>\n",
       "      <td>False</td>\n",
       "      <td>False</td>\n",
       "      <td>False</td>\n",
       "      <td>False</td>\n",
       "      <td>False</td>\n",
       "    </tr>\n",
       "    <tr>\n",
       "      <th>1379</th>\n",
       "      <td>False</td>\n",
       "      <td>False</td>\n",
       "      <td>False</td>\n",
       "      <td>False</td>\n",
       "      <td>False</td>\n",
       "      <td>False</td>\n",
       "      <td>False</td>\n",
       "    </tr>\n",
       "    <tr>\n",
       "      <th>1380</th>\n",
       "      <td>False</td>\n",
       "      <td>False</td>\n",
       "      <td>False</td>\n",
       "      <td>False</td>\n",
       "      <td>False</td>\n",
       "      <td>False</td>\n",
       "      <td>False</td>\n",
       "    </tr>\n",
       "  </tbody>\n",
       "</table>\n",
       "<p>1381 rows × 7 columns</p>\n",
       "</div>"
      ],
      "text/plain": [
       "       광고그룹    키워드    노출수    클릭수  클릭률(%)  평균클릭비용(VAT포함,원)  총비용(VAT포함,원)\n",
       "0     False  False  False  False   False            False         False\n",
       "1     False  False  False  False   False            False         False\n",
       "2     False  False  False  False   False            False         False\n",
       "3     False  False  False  False   False            False         False\n",
       "4     False  False  False  False   False            False         False\n",
       "...     ...    ...    ...    ...     ...              ...           ...\n",
       "1376  False  False  False  False   False            False         False\n",
       "1377  False  False  False  False   False            False         False\n",
       "1378  False  False  False  False   False            False         False\n",
       "1379  False  False  False  False   False            False         False\n",
       "1380  False  False  False  False   False            False         False\n",
       "\n",
       "[1381 rows x 7 columns]"
      ]
     },
     "execution_count": 4,
     "metadata": {},
     "output_type": "execute_result"
    }
   ],
   "source": [
    "ad.isnull()"
   ]
  },
  {
   "cell_type": "markdown",
   "metadata": {},
   "source": [
    "**알아보기 힘드니까 sum이용**"
   ]
  },
  {
   "cell_type": "code",
   "execution_count": 5,
   "metadata": {},
   "outputs": [
    {
     "data": {
      "text/plain": [
       "광고그룹               0\n",
       "키워드                0\n",
       "노출수                0\n",
       "클릭수                0\n",
       "클릭률(%)             0\n",
       "평균클릭비용(VAT포함,원)    0\n",
       "총비용(VAT포함,원)       0\n",
       "dtype: int64"
      ]
     },
     "execution_count": 5,
     "metadata": {},
     "output_type": "execute_result"
    }
   ],
   "source": [
    "# 열단위로 확인\n",
    "ad.isnull().sum()"
   ]
  },
  {
   "cell_type": "code",
   "execution_count": 6,
   "metadata": {},
   "outputs": [
    {
     "data": {
      "text/plain": [
       "0       0\n",
       "1       0\n",
       "2       0\n",
       "3       0\n",
       "4       0\n",
       "       ..\n",
       "1376    0\n",
       "1377    0\n",
       "1378    0\n",
       "1379    0\n",
       "1380    0\n",
       "Length: 1381, dtype: int64"
      ]
     },
     "execution_count": 6,
     "metadata": {},
     "output_type": "execute_result"
    }
   ],
   "source": [
    "# 행단위로 확인\n",
    "ad.isnull().sum(axis = 1)"
   ]
  },
  {
   "cell_type": "markdown",
   "metadata": {},
   "source": [
    "#### 반올림 처리\n",
    "\n",
    "* 변수 '클릭수' : 소수점 첫째 자리에서 반올림 필요"
   ]
  },
  {
   "cell_type": "code",
   "execution_count": 7,
   "metadata": {},
   "outputs": [
    {
     "data": {
      "text/plain": [
       "0       9606.0\n",
       "1       8058.0\n",
       "2        324.0\n",
       "3       1864.0\n",
       "4        814.0\n",
       "         ...  \n",
       "1376       0.0\n",
       "1377       0.0\n",
       "1378       0.0\n",
       "1379       0.0\n",
       "1380       0.0\n",
       "Name: 클릭수, Length: 1381, dtype: float64"
      ]
     },
     "execution_count": 7,
     "metadata": {},
     "output_type": "execute_result"
    }
   ],
   "source": [
    "clk = round(ad['클릭수'], 0 )\n",
    "clk"
   ]
  },
  {
   "cell_type": "markdown",
   "metadata": {},
   "source": [
    "#### 소수점 제거\n",
    "* 실수(float)를 정수(int)로 변경"
   ]
  },
  {
   "cell_type": "code",
   "execution_count": 8,
   "metadata": {},
   "outputs": [
    {
     "data": {
      "text/plain": [
       "0       9606\n",
       "1       8058\n",
       "2        324\n",
       "3       1864\n",
       "4        814\n",
       "        ... \n",
       "1376       0\n",
       "1377       0\n",
       "1378       0\n",
       "1379       0\n",
       "1380       0\n",
       "Name: 클릭수, Length: 1381, dtype: int32"
      ]
     },
     "execution_count": 8,
     "metadata": {},
     "output_type": "execute_result"
    }
   ],
   "source": [
    "clk.astype(int)"
   ]
  },
  {
   "cell_type": "markdown",
   "metadata": {},
   "source": [
    "#### 기존 변수 대체 및 수정\n",
    "* 반올림하여 소수점 제거한 '클릭수' 변수 대체 "
   ]
  },
  {
   "cell_type": "code",
   "execution_count": 10,
   "metadata": {},
   "outputs": [
    {
     "data": {
      "text/html": [
       "<div>\n",
       "<style scoped>\n",
       "    .dataframe tbody tr th:only-of-type {\n",
       "        vertical-align: middle;\n",
       "    }\n",
       "\n",
       "    .dataframe tbody tr th {\n",
       "        vertical-align: top;\n",
       "    }\n",
       "\n",
       "    .dataframe thead th {\n",
       "        text-align: right;\n",
       "    }\n",
       "</style>\n",
       "<table border=\"1\" class=\"dataframe\">\n",
       "  <thead>\n",
       "    <tr style=\"text-align: right;\">\n",
       "      <th></th>\n",
       "      <th>광고그룹</th>\n",
       "      <th>키워드</th>\n",
       "      <th>노출수</th>\n",
       "      <th>클릭수</th>\n",
       "      <th>클릭률(%)</th>\n",
       "      <th>평균클릭비용(VAT포함,원)</th>\n",
       "      <th>총비용(VAT포함,원)</th>\n",
       "    </tr>\n",
       "  </thead>\n",
       "  <tbody>\n",
       "    <tr>\n",
       "      <th>0</th>\n",
       "      <td>올인원 패키지 : 디자인 툴_파워컨텐츠_포토샵</td>\n",
       "      <td>-</td>\n",
       "      <td>2319456</td>\n",
       "      <td>9606</td>\n",
       "      <td>0.414149</td>\n",
       "      <td>261.549448</td>\n",
       "      <td>2512444</td>\n",
       "    </tr>\n",
       "    <tr>\n",
       "      <th>1</th>\n",
       "      <td>올인원 패키지 : 업무자동화_VBA</td>\n",
       "      <td>-</td>\n",
       "      <td>767491</td>\n",
       "      <td>8058</td>\n",
       "      <td>1.049915</td>\n",
       "      <td>295.974808</td>\n",
       "      <td>2384965</td>\n",
       "    </tr>\n",
       "    <tr>\n",
       "      <th>2</th>\n",
       "      <td>ㅍAOP 전체_중복키워드_디자인(삭제)</td>\n",
       "      <td>일러스트</td>\n",
       "      <td>1137840</td>\n",
       "      <td>324</td>\n",
       "      <td>0.028475</td>\n",
       "      <td>4841.663580</td>\n",
       "      <td>1568699</td>\n",
       "    </tr>\n",
       "    <tr>\n",
       "      <th>3</th>\n",
       "      <td>올인원 패키지 : 데이터 분석 입문 온라인_파콘</td>\n",
       "      <td>-</td>\n",
       "      <td>694106</td>\n",
       "      <td>1864</td>\n",
       "      <td>0.268489</td>\n",
       "      <td>630.593475</td>\n",
       "      <td>1175174</td>\n",
       "    </tr>\n",
       "    <tr>\n",
       "      <th>4</th>\n",
       "      <td>3. html</td>\n",
       "      <td>HTML</td>\n",
       "      <td>9626374</td>\n",
       "      <td>814</td>\n",
       "      <td>0.008452</td>\n",
       "      <td>1408.435349</td>\n",
       "      <td>1145903</td>\n",
       "    </tr>\n",
       "  </tbody>\n",
       "</table>\n",
       "</div>"
      ],
      "text/plain": [
       "                         광고그룹   키워드      노출수   클릭수    클릭률(%)  평균클릭비용(VAT포함,원)  \\\n",
       "0   올인원 패키지 : 디자인 툴_파워컨텐츠_포토샵     -  2319456  9606  0.414149       261.549448   \n",
       "1         올인원 패키지 : 업무자동화_VBA     -   767491  8058  1.049915       295.974808   \n",
       "2       ㅍAOP 전체_중복키워드_디자인(삭제)  일러스트  1137840   324  0.028475      4841.663580   \n",
       "3  올인원 패키지 : 데이터 분석 입문 온라인_파콘     -   694106  1864  0.268489       630.593475   \n",
       "4                     3. html  HTML  9626374   814  0.008452      1408.435349   \n",
       "\n",
       "   총비용(VAT포함,원)  \n",
       "0       2512444  \n",
       "1       2384965  \n",
       "2       1568699  \n",
       "3       1175174  \n",
       "4       1145903  "
      ]
     },
     "execution_count": 10,
     "metadata": {},
     "output_type": "execute_result"
    }
   ],
   "source": [
    "ad['클릭수'] = clk.astype(int)\n",
    "ad.head()"
   ]
  },
  {
   "cell_type": "markdown",
   "metadata": {},
   "source": [
    "* '클릭수' 의 타입이 바뀌면서 '클릭률'  또한 변경 필요   \n",
    "(클릭률 : CTR = 클릭수/노출수 * 100)"
   ]
  },
  {
   "cell_type": "code",
   "execution_count": 14,
   "metadata": {},
   "outputs": [
    {
     "data": {
      "text/html": [
       "<div>\n",
       "<style scoped>\n",
       "    .dataframe tbody tr th:only-of-type {\n",
       "        vertical-align: middle;\n",
       "    }\n",
       "\n",
       "    .dataframe tbody tr th {\n",
       "        vertical-align: top;\n",
       "    }\n",
       "\n",
       "    .dataframe thead th {\n",
       "        text-align: right;\n",
       "    }\n",
       "</style>\n",
       "<table border=\"1\" class=\"dataframe\">\n",
       "  <thead>\n",
       "    <tr style=\"text-align: right;\">\n",
       "      <th></th>\n",
       "      <th>광고그룹</th>\n",
       "      <th>키워드</th>\n",
       "      <th>노출수</th>\n",
       "      <th>클릭수</th>\n",
       "      <th>클릭률(%)</th>\n",
       "      <th>평균클릭비용(VAT포함,원)</th>\n",
       "      <th>총비용(VAT포함,원)</th>\n",
       "    </tr>\n",
       "  </thead>\n",
       "  <tbody>\n",
       "    <tr>\n",
       "      <th>0</th>\n",
       "      <td>올인원 패키지 : 디자인 툴_파워컨텐츠_포토샵</td>\n",
       "      <td>-</td>\n",
       "      <td>2319456</td>\n",
       "      <td>9606</td>\n",
       "      <td>0.414149</td>\n",
       "      <td>261.549448</td>\n",
       "      <td>2512444</td>\n",
       "    </tr>\n",
       "    <tr>\n",
       "      <th>1</th>\n",
       "      <td>올인원 패키지 : 업무자동화_VBA</td>\n",
       "      <td>-</td>\n",
       "      <td>767491</td>\n",
       "      <td>8058</td>\n",
       "      <td>1.049915</td>\n",
       "      <td>295.974808</td>\n",
       "      <td>2384965</td>\n",
       "    </tr>\n",
       "    <tr>\n",
       "      <th>2</th>\n",
       "      <td>ㅍAOP 전체_중복키워드_디자인(삭제)</td>\n",
       "      <td>일러스트</td>\n",
       "      <td>1137840</td>\n",
       "      <td>324</td>\n",
       "      <td>0.028475</td>\n",
       "      <td>4841.663580</td>\n",
       "      <td>1568699</td>\n",
       "    </tr>\n",
       "    <tr>\n",
       "      <th>3</th>\n",
       "      <td>올인원 패키지 : 데이터 분석 입문 온라인_파콘</td>\n",
       "      <td>-</td>\n",
       "      <td>694106</td>\n",
       "      <td>1864</td>\n",
       "      <td>0.268547</td>\n",
       "      <td>630.593475</td>\n",
       "      <td>1175174</td>\n",
       "    </tr>\n",
       "    <tr>\n",
       "      <th>4</th>\n",
       "      <td>3. html</td>\n",
       "      <td>HTML</td>\n",
       "      <td>9626374</td>\n",
       "      <td>814</td>\n",
       "      <td>0.008456</td>\n",
       "      <td>1408.435349</td>\n",
       "      <td>1145903</td>\n",
       "    </tr>\n",
       "  </tbody>\n",
       "</table>\n",
       "</div>"
      ],
      "text/plain": [
       "                         광고그룹   키워드      노출수   클릭수    클릭률(%)  평균클릭비용(VAT포함,원)  \\\n",
       "0   올인원 패키지 : 디자인 툴_파워컨텐츠_포토샵     -  2319456  9606  0.414149       261.549448   \n",
       "1         올인원 패키지 : 업무자동화_VBA     -   767491  8058  1.049915       295.974808   \n",
       "2       ㅍAOP 전체_중복키워드_디자인(삭제)  일러스트  1137840   324  0.028475      4841.663580   \n",
       "3  올인원 패키지 : 데이터 분석 입문 온라인_파콘     -   694106  1864  0.268547       630.593475   \n",
       "4                     3. html  HTML  9626374   814  0.008456      1408.435349   \n",
       "\n",
       "   총비용(VAT포함,원)  \n",
       "0       2512444  \n",
       "1       2384965  \n",
       "2       1568699  \n",
       "3       1175174  \n",
       "4       1145903  "
      ]
     },
     "execution_count": 14,
     "metadata": {},
     "output_type": "execute_result"
    }
   ],
   "source": [
    "# 데이터프레임이므로 열은 서로 수치연산 가능\n",
    "\n",
    "ad['클릭률(%)'] = ad['클릭수']/ad['노출수']*100\n",
    "ad.head()"
   ]
  },
  {
   "cell_type": "markdown",
   "metadata": {},
   "source": [
    "* 평균클릭비용 : 반올림처리 후 일의 자리수로 변경 필요"
   ]
  },
  {
   "cell_type": "code",
   "execution_count": 18,
   "metadata": {},
   "outputs": [
    {
     "data": {
      "text/html": [
       "<div>\n",
       "<style scoped>\n",
       "    .dataframe tbody tr th:only-of-type {\n",
       "        vertical-align: middle;\n",
       "    }\n",
       "\n",
       "    .dataframe tbody tr th {\n",
       "        vertical-align: top;\n",
       "    }\n",
       "\n",
       "    .dataframe thead th {\n",
       "        text-align: right;\n",
       "    }\n",
       "</style>\n",
       "<table border=\"1\" class=\"dataframe\">\n",
       "  <thead>\n",
       "    <tr style=\"text-align: right;\">\n",
       "      <th></th>\n",
       "      <th>광고그룹</th>\n",
       "      <th>키워드</th>\n",
       "      <th>노출수</th>\n",
       "      <th>클릭수</th>\n",
       "      <th>클릭률(%)</th>\n",
       "      <th>평균클릭비용(VAT포함,원)</th>\n",
       "      <th>총비용(VAT포함,원)</th>\n",
       "    </tr>\n",
       "  </thead>\n",
       "  <tbody>\n",
       "    <tr>\n",
       "      <th>0</th>\n",
       "      <td>올인원 패키지 : 디자인 툴_파워컨텐츠_포토샵</td>\n",
       "      <td>-</td>\n",
       "      <td>2319456</td>\n",
       "      <td>9606</td>\n",
       "      <td>0.414149</td>\n",
       "      <td>262</td>\n",
       "      <td>2512444</td>\n",
       "    </tr>\n",
       "    <tr>\n",
       "      <th>1</th>\n",
       "      <td>올인원 패키지 : 업무자동화_VBA</td>\n",
       "      <td>-</td>\n",
       "      <td>767491</td>\n",
       "      <td>8058</td>\n",
       "      <td>1.049915</td>\n",
       "      <td>296</td>\n",
       "      <td>2384965</td>\n",
       "    </tr>\n",
       "    <tr>\n",
       "      <th>2</th>\n",
       "      <td>ㅍAOP 전체_중복키워드_디자인(삭제)</td>\n",
       "      <td>일러스트</td>\n",
       "      <td>1137840</td>\n",
       "      <td>324</td>\n",
       "      <td>0.028475</td>\n",
       "      <td>4842</td>\n",
       "      <td>1568699</td>\n",
       "    </tr>\n",
       "    <tr>\n",
       "      <th>3</th>\n",
       "      <td>올인원 패키지 : 데이터 분석 입문 온라인_파콘</td>\n",
       "      <td>-</td>\n",
       "      <td>694106</td>\n",
       "      <td>1864</td>\n",
       "      <td>0.268547</td>\n",
       "      <td>631</td>\n",
       "      <td>1175174</td>\n",
       "    </tr>\n",
       "    <tr>\n",
       "      <th>4</th>\n",
       "      <td>3. html</td>\n",
       "      <td>HTML</td>\n",
       "      <td>9626374</td>\n",
       "      <td>814</td>\n",
       "      <td>0.008456</td>\n",
       "      <td>1408</td>\n",
       "      <td>1145903</td>\n",
       "    </tr>\n",
       "  </tbody>\n",
       "</table>\n",
       "</div>"
      ],
      "text/plain": [
       "                         광고그룹   키워드      노출수   클릭수    클릭률(%)  평균클릭비용(VAT포함,원)  \\\n",
       "0   올인원 패키지 : 디자인 툴_파워컨텐츠_포토샵     -  2319456  9606  0.414149              262   \n",
       "1         올인원 패키지 : 업무자동화_VBA     -   767491  8058  1.049915              296   \n",
       "2       ㅍAOP 전체_중복키워드_디자인(삭제)  일러스트  1137840   324  0.028475             4842   \n",
       "3  올인원 패키지 : 데이터 분석 입문 온라인_파콘     -   694106  1864  0.268547              631   \n",
       "4                     3. html  HTML  9626374   814  0.008456             1408   \n",
       "\n",
       "   총비용(VAT포함,원)  \n",
       "0       2512444  \n",
       "1       2384965  \n",
       "2       1568699  \n",
       "3       1175174  \n",
       "4       1145903  "
      ]
     },
     "execution_count": 18,
     "metadata": {},
     "output_type": "execute_result"
    }
   ],
   "source": [
    "cpc = round(ad['평균클릭비용(VAT포함,원)'],0)\n",
    "ad['평균클릭비용(VAT포함,원)'] = cpc.astype(int)\n",
    "ad.head()"
   ]
  },
  {
   "cell_type": "markdown",
   "metadata": {},
   "source": [
    "## 데이터 탐색\n",
    "\n",
    "#### 기본적인 데이터 탐색방법"
   ]
  },
  {
   "cell_type": "code",
   "execution_count": 19,
   "metadata": {},
   "outputs": [
    {
     "data": {
      "text/html": [
       "<div>\n",
       "<style scoped>\n",
       "    .dataframe tbody tr th:only-of-type {\n",
       "        vertical-align: middle;\n",
       "    }\n",
       "\n",
       "    .dataframe tbody tr th {\n",
       "        vertical-align: top;\n",
       "    }\n",
       "\n",
       "    .dataframe thead th {\n",
       "        text-align: right;\n",
       "    }\n",
       "</style>\n",
       "<table border=\"1\" class=\"dataframe\">\n",
       "  <thead>\n",
       "    <tr style=\"text-align: right;\">\n",
       "      <th></th>\n",
       "      <th>광고그룹</th>\n",
       "      <th>키워드</th>\n",
       "      <th>노출수</th>\n",
       "      <th>클릭수</th>\n",
       "      <th>클릭률(%)</th>\n",
       "      <th>평균클릭비용(VAT포함,원)</th>\n",
       "      <th>총비용(VAT포함,원)</th>\n",
       "    </tr>\n",
       "  </thead>\n",
       "  <tbody>\n",
       "    <tr>\n",
       "      <th>0</th>\n",
       "      <td>올인원 패키지 : 디자인 툴_파워컨텐츠_포토샵</td>\n",
       "      <td>-</td>\n",
       "      <td>2319456</td>\n",
       "      <td>9606</td>\n",
       "      <td>0.414149</td>\n",
       "      <td>262</td>\n",
       "      <td>2512444</td>\n",
       "    </tr>\n",
       "    <tr>\n",
       "      <th>1</th>\n",
       "      <td>올인원 패키지 : 업무자동화_VBA</td>\n",
       "      <td>-</td>\n",
       "      <td>767491</td>\n",
       "      <td>8058</td>\n",
       "      <td>1.049915</td>\n",
       "      <td>296</td>\n",
       "      <td>2384965</td>\n",
       "    </tr>\n",
       "    <tr>\n",
       "      <th>2</th>\n",
       "      <td>ㅍAOP 전체_중복키워드_디자인(삭제)</td>\n",
       "      <td>일러스트</td>\n",
       "      <td>1137840</td>\n",
       "      <td>324</td>\n",
       "      <td>0.028475</td>\n",
       "      <td>4842</td>\n",
       "      <td>1568699</td>\n",
       "    </tr>\n",
       "  </tbody>\n",
       "</table>\n",
       "</div>"
      ],
      "text/plain": [
       "                        광고그룹   키워드      노출수   클릭수    클릭률(%)  평균클릭비용(VAT포함,원)  \\\n",
       "0  올인원 패키지 : 디자인 툴_파워컨텐츠_포토샵     -  2319456  9606  0.414149              262   \n",
       "1        올인원 패키지 : 업무자동화_VBA     -   767491  8058  1.049915              296   \n",
       "2      ㅍAOP 전체_중복키워드_디자인(삭제)  일러스트  1137840   324  0.028475             4842   \n",
       "\n",
       "   총비용(VAT포함,원)  \n",
       "0       2512444  \n",
       "1       2384965  \n",
       "2       1568699  "
      ]
     },
     "execution_count": 19,
     "metadata": {},
     "output_type": "execute_result"
    }
   ],
   "source": [
    "ad.head(3)"
   ]
  },
  {
   "cell_type": "code",
   "execution_count": 20,
   "metadata": {},
   "outputs": [
    {
     "data": {
      "text/html": [
       "<div>\n",
       "<style scoped>\n",
       "    .dataframe tbody tr th:only-of-type {\n",
       "        vertical-align: middle;\n",
       "    }\n",
       "\n",
       "    .dataframe tbody tr th {\n",
       "        vertical-align: top;\n",
       "    }\n",
       "\n",
       "    .dataframe thead th {\n",
       "        text-align: right;\n",
       "    }\n",
       "</style>\n",
       "<table border=\"1\" class=\"dataframe\">\n",
       "  <thead>\n",
       "    <tr style=\"text-align: right;\">\n",
       "      <th></th>\n",
       "      <th>광고그룹</th>\n",
       "      <th>키워드</th>\n",
       "      <th>노출수</th>\n",
       "      <th>클릭수</th>\n",
       "      <th>클릭률(%)</th>\n",
       "      <th>평균클릭비용(VAT포함,원)</th>\n",
       "      <th>총비용(VAT포함,원)</th>\n",
       "    </tr>\n",
       "  </thead>\n",
       "  <tbody>\n",
       "    <tr>\n",
       "      <th>1378</th>\n",
       "      <td>마케팅KPI수립</td>\n",
       "      <td>LTV</td>\n",
       "      <td>32602</td>\n",
       "      <td>0</td>\n",
       "      <td>0.0</td>\n",
       "      <td>0</td>\n",
       "      <td>0</td>\n",
       "    </tr>\n",
       "    <tr>\n",
       "      <th>1379</th>\n",
       "      <td>data_camp_rmp_8</td>\n",
       "      <td>DECISION</td>\n",
       "      <td>60844</td>\n",
       "      <td>0</td>\n",
       "      <td>0.0</td>\n",
       "      <td>0</td>\n",
       "      <td>0</td>\n",
       "    </tr>\n",
       "    <tr>\n",
       "      <th>1380</th>\n",
       "      <td>4. 웹의 동작</td>\n",
       "      <td>REST</td>\n",
       "      <td>61193</td>\n",
       "      <td>0</td>\n",
       "      <td>0.0</td>\n",
       "      <td>0</td>\n",
       "      <td>0</td>\n",
       "    </tr>\n",
       "  </tbody>\n",
       "</table>\n",
       "</div>"
      ],
      "text/plain": [
       "                 광고그룹       키워드    노출수  클릭수  클릭률(%)  평균클릭비용(VAT포함,원)  \\\n",
       "1378         마케팅KPI수립       LTV  32602    0     0.0                0   \n",
       "1379  data_camp_rmp_8  DECISION  60844    0     0.0                0   \n",
       "1380         4. 웹의 동작      REST  61193    0     0.0                0   \n",
       "\n",
       "      총비용(VAT포함,원)  \n",
       "1378             0  \n",
       "1379             0  \n",
       "1380             0  "
      ]
     },
     "execution_count": 20,
     "metadata": {},
     "output_type": "execute_result"
    }
   ],
   "source": [
    "ad.tail(3)"
   ]
  },
  {
   "cell_type": "markdown",
   "metadata": {},
   "source": [
    "shape - 데이터프레임의 크기를 '(행 수, 열 수)' 형식으로 출력"
   ]
  },
  {
   "cell_type": "code",
   "execution_count": 23,
   "metadata": {},
   "outputs": [
    {
     "data": {
      "text/plain": [
       "(1381, 7)"
      ]
     },
     "execution_count": 23,
     "metadata": {},
     "output_type": "execute_result"
    }
   ],
   "source": [
    "ad.shape"
   ]
  },
  {
   "cell_type": "markdown",
   "metadata": {},
   "source": [
    "describe() - 각 열에 대한 기술통계량. 데이터의 수, 평균, 표준편차, 최소값, 사분위수, 최대값   "
   ]
  },
  {
   "cell_type": "code",
   "execution_count": 24,
   "metadata": {},
   "outputs": [
    {
     "data": {
      "text/html": [
       "<div>\n",
       "<style scoped>\n",
       "    .dataframe tbody tr th:only-of-type {\n",
       "        vertical-align: middle;\n",
       "    }\n",
       "\n",
       "    .dataframe tbody tr th {\n",
       "        vertical-align: top;\n",
       "    }\n",
       "\n",
       "    .dataframe thead th {\n",
       "        text-align: right;\n",
       "    }\n",
       "</style>\n",
       "<table border=\"1\" class=\"dataframe\">\n",
       "  <thead>\n",
       "    <tr style=\"text-align: right;\">\n",
       "      <th></th>\n",
       "      <th>노출수</th>\n",
       "      <th>클릭수</th>\n",
       "      <th>클릭률(%)</th>\n",
       "      <th>평균클릭비용(VAT포함,원)</th>\n",
       "      <th>총비용(VAT포함,원)</th>\n",
       "    </tr>\n",
       "  </thead>\n",
       "  <tbody>\n",
       "    <tr>\n",
       "      <th>count</th>\n",
       "      <td>1.381000e+03</td>\n",
       "      <td>1381.000000</td>\n",
       "      <td>1381.000000</td>\n",
       "      <td>1381.000000</td>\n",
       "      <td>1.381000e+03</td>\n",
       "    </tr>\n",
       "    <tr>\n",
       "      <th>mean</th>\n",
       "      <td>3.505415e+04</td>\n",
       "      <td>52.504707</td>\n",
       "      <td>0.352023</td>\n",
       "      <td>981.624909</td>\n",
       "      <td>3.791958e+04</td>\n",
       "    </tr>\n",
       "    <tr>\n",
       "      <th>std</th>\n",
       "      <td>2.964650e+05</td>\n",
       "      <td>387.513479</td>\n",
       "      <td>1.000998</td>\n",
       "      <td>1372.401050</td>\n",
       "      <td>1.421492e+05</td>\n",
       "    </tr>\n",
       "    <tr>\n",
       "      <th>min</th>\n",
       "      <td>1.001000e+03</td>\n",
       "      <td>0.000000</td>\n",
       "      <td>0.000000</td>\n",
       "      <td>0.000000</td>\n",
       "      <td>0.000000e+00</td>\n",
       "    </tr>\n",
       "    <tr>\n",
       "      <th>25%</th>\n",
       "      <td>1.814000e+03</td>\n",
       "      <td>1.000000</td>\n",
       "      <td>0.006539</td>\n",
       "      <td>64.000000</td>\n",
       "      <td>7.700000e+01</td>\n",
       "    </tr>\n",
       "    <tr>\n",
       "      <th>50%</th>\n",
       "      <td>3.805000e+03</td>\n",
       "      <td>4.000000</td>\n",
       "      <td>0.056721</td>\n",
       "      <td>396.000000</td>\n",
       "      <td>2.123000e+03</td>\n",
       "    </tr>\n",
       "    <tr>\n",
       "      <th>75%</th>\n",
       "      <td>1.073400e+04</td>\n",
       "      <td>14.000000</td>\n",
       "      <td>0.243309</td>\n",
       "      <td>1303.000000</td>\n",
       "      <td>1.743500e+04</td>\n",
       "    </tr>\n",
       "    <tr>\n",
       "      <th>max</th>\n",
       "      <td>9.626374e+06</td>\n",
       "      <td>9606.000000</td>\n",
       "      <td>13.590551</td>\n",
       "      <td>9363.000000</td>\n",
       "      <td>2.512444e+06</td>\n",
       "    </tr>\n",
       "  </tbody>\n",
       "</table>\n",
       "</div>"
      ],
      "text/plain": [
       "                노출수          클릭수       클릭률(%)  평균클릭비용(VAT포함,원)  총비용(VAT포함,원)\n",
       "count  1.381000e+03  1381.000000  1381.000000      1381.000000  1.381000e+03\n",
       "mean   3.505415e+04    52.504707     0.352023       981.624909  3.791958e+04\n",
       "std    2.964650e+05   387.513479     1.000998      1372.401050  1.421492e+05\n",
       "min    1.001000e+03     0.000000     0.000000         0.000000  0.000000e+00\n",
       "25%    1.814000e+03     1.000000     0.006539        64.000000  7.700000e+01\n",
       "50%    3.805000e+03     4.000000     0.056721       396.000000  2.123000e+03\n",
       "75%    1.073400e+04    14.000000     0.243309      1303.000000  1.743500e+04\n",
       "max    9.626374e+06  9606.000000    13.590551      9363.000000  2.512444e+06"
      ]
     },
     "execution_count": 24,
     "metadata": {},
     "output_type": "execute_result"
    }
   ],
   "source": [
    "ad.describe()"
   ]
  },
  {
   "cell_type": "markdown",
   "metadata": {},
   "source": [
    "지수표기법의 경우 pandas출력 옵션설정으로 변경 가능 - float 이용"
   ]
  },
  {
   "cell_type": "code",
   "execution_count": 26,
   "metadata": {},
   "outputs": [
    {
     "data": {
      "text/html": [
       "<div>\n",
       "<style scoped>\n",
       "    .dataframe tbody tr th:only-of-type {\n",
       "        vertical-align: middle;\n",
       "    }\n",
       "\n",
       "    .dataframe tbody tr th {\n",
       "        vertical-align: top;\n",
       "    }\n",
       "\n",
       "    .dataframe thead th {\n",
       "        text-align: right;\n",
       "    }\n",
       "</style>\n",
       "<table border=\"1\" class=\"dataframe\">\n",
       "  <thead>\n",
       "    <tr style=\"text-align: right;\">\n",
       "      <th></th>\n",
       "      <th>노출수</th>\n",
       "      <th>클릭수</th>\n",
       "      <th>클릭률(%)</th>\n",
       "      <th>평균클릭비용(VAT포함,원)</th>\n",
       "      <th>총비용(VAT포함,원)</th>\n",
       "    </tr>\n",
       "  </thead>\n",
       "  <tbody>\n",
       "    <tr>\n",
       "      <th>count</th>\n",
       "      <td>1381.00</td>\n",
       "      <td>1381.00</td>\n",
       "      <td>1381.00</td>\n",
       "      <td>1381.00</td>\n",
       "      <td>1381.00</td>\n",
       "    </tr>\n",
       "    <tr>\n",
       "      <th>mean</th>\n",
       "      <td>35054.15</td>\n",
       "      <td>52.50</td>\n",
       "      <td>0.35</td>\n",
       "      <td>981.62</td>\n",
       "      <td>37919.58</td>\n",
       "    </tr>\n",
       "    <tr>\n",
       "      <th>std</th>\n",
       "      <td>296465.03</td>\n",
       "      <td>387.51</td>\n",
       "      <td>1.00</td>\n",
       "      <td>1372.40</td>\n",
       "      <td>142149.16</td>\n",
       "    </tr>\n",
       "    <tr>\n",
       "      <th>min</th>\n",
       "      <td>1001.00</td>\n",
       "      <td>0.00</td>\n",
       "      <td>0.00</td>\n",
       "      <td>0.00</td>\n",
       "      <td>0.00</td>\n",
       "    </tr>\n",
       "    <tr>\n",
       "      <th>25%</th>\n",
       "      <td>1814.00</td>\n",
       "      <td>1.00</td>\n",
       "      <td>0.01</td>\n",
       "      <td>64.00</td>\n",
       "      <td>77.00</td>\n",
       "    </tr>\n",
       "    <tr>\n",
       "      <th>50%</th>\n",
       "      <td>3805.00</td>\n",
       "      <td>4.00</td>\n",
       "      <td>0.06</td>\n",
       "      <td>396.00</td>\n",
       "      <td>2123.00</td>\n",
       "    </tr>\n",
       "    <tr>\n",
       "      <th>75%</th>\n",
       "      <td>10734.00</td>\n",
       "      <td>14.00</td>\n",
       "      <td>0.24</td>\n",
       "      <td>1303.00</td>\n",
       "      <td>17435.00</td>\n",
       "    </tr>\n",
       "    <tr>\n",
       "      <th>max</th>\n",
       "      <td>9626374.00</td>\n",
       "      <td>9606.00</td>\n",
       "      <td>13.59</td>\n",
       "      <td>9363.00</td>\n",
       "      <td>2512444.00</td>\n",
       "    </tr>\n",
       "  </tbody>\n",
       "</table>\n",
       "</div>"
      ],
      "text/plain": [
       "             노출수     클릭수  클릭률(%)  평균클릭비용(VAT포함,원)  총비용(VAT포함,원)\n",
       "count    1381.00 1381.00 1381.00          1381.00       1381.00\n",
       "mean    35054.15   52.50    0.35           981.62      37919.58\n",
       "std    296465.03  387.51    1.00          1372.40     142149.16\n",
       "min      1001.00    0.00    0.00             0.00          0.00\n",
       "25%      1814.00    1.00    0.01            64.00         77.00\n",
       "50%      3805.00    4.00    0.06           396.00       2123.00\n",
       "75%     10734.00   14.00    0.24          1303.00      17435.00\n",
       "max   9626374.00 9606.00   13.59          9363.00    2512444.00"
      ]
     },
     "execution_count": 26,
     "metadata": {},
     "output_type": "execute_result"
    }
   ],
   "source": [
    "pd.set_option('display.float_format','{:.2f}'.format)   # 소수 두번째 자리까지 표기하겠다는 뜻\n",
    "ad.describe()"
   ]
  },
  {
   "cell_type": "markdown",
   "metadata": {},
   "source": [
    "columns - 칼럼명 반환"
   ]
  },
  {
   "cell_type": "code",
   "execution_count": 27,
   "metadata": {},
   "outputs": [
    {
     "data": {
      "text/plain": [
       "Index(['광고그룹', '키워드', '노출수', '클릭수', '클릭률(%)', '평균클릭비용(VAT포함,원)',\n",
       "       '총비용(VAT포함,원)'],\n",
       "      dtype='object')"
      ]
     },
     "execution_count": 27,
     "metadata": {},
     "output_type": "execute_result"
    }
   ],
   "source": [
    "ad.columns"
   ]
  },
  {
   "cell_type": "markdown",
   "metadata": {},
   "source": [
    "unique() - 열(시리즈)의 고유값 출력"
   ]
  },
  {
   "cell_type": "code",
   "execution_count": 30,
   "metadata": {
    "collapsed": true
   },
   "outputs": [
    {
     "data": {
      "text/plain": [
       "array(['올인원 패키지 : 디자인 툴_파워컨텐츠_포토샵', '올인원 패키지 : 업무자동화_VBA',\n",
       "       'ㅍAOP 전체_중복키워드_디자인(삭제)', '올인원 패키지 : 데이터 분석 입문 온라인_파콘', '3. html',\n",
       "       '6. 파이썬', '1. 코딩', '2. C언어 일반', '프로그래밍 전체_파워컨텐츠_블록체인(삭제)',\n",
       "       'AOP 전체_중복키워드_디자인', '디지털 마케팅 스쿨 13기_대표키워드', '인스타그램 마케팅',\n",
       "       '블록체인 신사업 시작하기', 'AOP 전체_중복키워드_비지니스', '올인원 패키지 : 업무자동화_2. 파이썬',\n",
       "       '올인원 패키지 : 1인 쇼핑몰 시작하기_00.창업_PC', '올인원 패키지 : 영상 제작/편집_6.프리미어프로',\n",
       "       '1. 모바일앱개발_교육', '올인원 패키지 : UX/UI 디자인 입문_연관검색어',\n",
       "       '올인원 패키지 : 데이터 분석 입문(파컨)', 'JavaScript BOOT CAMP', '1. 일반_PC',\n",
       "       'AOP 전체_중복키워드_공통', 'AOP 전체_중복키워드_프로그래밍', '003.퍼포먼스 마케팅',\n",
       "       '2. 프로그래밍', '마케팅 유치원', '올인원 패키지 : 업무자동화_1. 자동화', '올인원 패키지 : 브랜딩',\n",
       "       'ㅍ올인원 패키지 : 브랜딩', '올인원 패키지 : 콘텐츠 마케팅_카피라이팅',\n",
       "       'AOP 전체_중복키워드_데이터사이언스', '8. 시스템 프로그래밍',\n",
       "       'ㅍ올인원 패키지 : UX/UI 디자인 입문_연관검색어(삭제)', '올인원 패키지 : 프로그래밍 첫걸음 시작하기',\n",
       "       '페이스북&인스타그램 마케팅 실전', 'Python & Django를 활용한 웹 서비스_개발자', '5. 자료구조',\n",
       "       'fin_camp_auction_6', '올인원 패키지 : 1인 쇼핑몰_00.창업_MO', '타이포그래피와 편집디자인',\n",
       "       '올인원 패키지 : 디지털 마케팅_1. 디지털 마케팅', 'AOP 전체_중복키워드_마케팅',\n",
       "       '마케터를 위한 데이터 부트캠프', '코딩으로 여행하는 블록체인 서비스',\n",
       "       '올인원 패키지 : 1인 쇼핑몰 시작하기_02.쇼핑몰구축', '상업용 부동산 실무 입문 4기',\n",
       "       '포토샵 유치원_일러스트레이터 유치원', '고객의 마음을 읽는 구글애널리틱스',\n",
       "       '왕초보의 파이썬 웹 프로그래밍 CAMP', '올인원 패키지 : 콘텐츠 마케팅_영상바이럴', '마케팅KPI수립',\n",
       "       '프로그래밍 유치원', 'ㅍAOP 전체_중복키워드_프로그래밍(삭제)', '#000_마케팅 전체_main',\n",
       "       'SEO/SEM 전략', '올인원 패키지 : 투자_파워콘텐츠', 'ㅍAOP 전체_중복키워드_공통(삭제)',\n",
       "       '올인원 패키지 : 콘텐츠 마케팅_대표키워드', '올인원 패키지 : 파이썬 웹 개발_2.프론트엔드기초',\n",
       "       '올인원 패키지 : 업무자동화_4. VBA', '올인원 패키지 : 금융공학/퀀트_01.파이썬기본&자동화',\n",
       "       'TensorFlow로 시작하는 딥러닝 입문', '올인원 패키지 : 업무자동화_3. 엑셀', '002.마케팅 입문',\n",
       "       '올인원 패키지 : 그로스해킹_5.마케팅 분석', '1. 데이터분석입문_일반', 'data_camp_rmp_8',\n",
       "       'ㅍAOP 전체_중복키워드_마케팅(삭제)', '올인원 패키지 : 게임 개발', '마케터를 위한 데이터 해석 실전',\n",
       "       '마케팅 전체', '1. 경영 일반', 'Vue로 구현하는 PWA CAMP', '1. 전체',\n",
       "       '001.데이터분석/ 통계', '5. javascript', 'ㅍ1. 전체',\n",
       "       '올인원 패키지 : 1인 쇼핑몰 시작하기_05.상품촬영', '1. 컴퓨터공학 일반',\n",
       "       '올인원 패키지 : 파이썬 웹 개발_3.FLASK기초', '올인원 패키지 : 디지털 마케팅_2. 페이스북 광고',\n",
       "       '올인원 패키지 : 영상 제작/편집_2.영상제작이론', '대기업을 이기는 브랜딩 전략',\n",
       "       '올인원 패키지 : 영상 제작/편집_9.유튜브/유튜버', '올인원 패키지 : 금융공학/퀀_03.금융공학',\n",
       "       '올인원 패키지 : 리더를 위한 HR/인재경영_1.인재', '내 아이템에 맞는 영상 콘텐츠 기획/제작',\n",
       "       'ㅍAOP 전체_중복키워드_데이터사이언스(삭제)', '올인원 패키지 : 그로스해킹_1.용어',\n",
       "       '1_벤처캐피탈에 대한 이해(벤처캐피탈)', '1. 일반_MO', '002.R',\n",
       "       'PYTHON & DJANGO를 활용한  웹 서비스 개발', '올인원 패키지 : 디지털 마케팅_3. 구글 광고',\n",
       "       '올인원 패키지 : 1인 쇼핑몰 시작하기_06.해외쇼핑몰', 'LaTeX를 활용한 효율적 논문작성 Workshop',\n",
       "       '인디자인 유치원', 'ㅍAOP 전체_중복키워드_비지니스(삭제)', '딥러닝으로 배우는 병렬처리 CAMP',\n",
       "       '올인원 패키지 : 영상 제작/편집_3.촬영 기법/장비1', '올인원 패키지 : FAST MBA_파워컨텐츠_아마존',\n",
       "       '7. 운영체제', '실전 웹/앱 프로젝트 기획', '2_투자유치를 위한 사업계획서 작성(투자유치)',\n",
       "       '올인원 패키지 : 영상 제작/편집_10.패캠강의', '올인원 패키지 : 1인 쇼핑몰 시작하기_01.플랫폼',\n",
       "       '다빈치리졸브와 컬러그레이딩', '파이썬을 통한 금융 데이터 수집과 분석 자동화 16기',\n",
       "       '실전 웹 UX/UI 디자인', '올인원 패키지 : 영상 제작/편집_7.에프터이펙트', '파이썬 텍스트 마이닝',\n",
       "       'data_camp_pcda_3', '5_초기 스타트업 실제 투자사례(창업자)', '1. 모바일앱개발_세부',\n",
       "       'Python & Django를 활용한 웹 서비스_일반', '005.머신러닝',\n",
       "       '올인원 패키지 : 영상 제작/편집_5.일러스트', '구글 광고', '올인원 패키지 : 영상 제작/편집_1.크리에이터',\n",
       "       '딥러닝으로 배우는 병렬처리 CAMP_구버전', '건강한 조직을 만드는 HR 전략 WORKSHOP',\n",
       "       '6.  컴퓨터구조', '003.파이썬', 'fin_camp_modeling_15', 'Apache Spark',\n",
       "       '올인원 패키지 : 금융공학/퀀_02.R활용금융데이터분석', '모바일 앱 UX/UI 디자인',\n",
       "       '001.BASIC DESIGN', '올인원 패키지 : 영상 제작/편집_8.파이널컷 프로',\n",
       "       '1. 앱웹서비스기획_일반', '프로그래밍 전체', '리눅스 인프라',\n",
       "       'OpenCV와 함께하는 컴퓨터 비전 프로그래밍', '서비스 기획 스쿨 5기_구글 연관검색어',\n",
       "       '올인원 패키지 : 금융공학/퀀트_00.일반', '올인원 패키지 : 리더를 위한 HR/인재경영_2.리더십',\n",
       "       '4_벤처캐피탈 투자계약(벤처 투자)', 'fin_camp_rdev_4', '파이낸스 전체',\n",
       "       'typescript 실전 workshop', '비즈니스 전체', '4. css', '영상 콘텐츠 디자인 유치원',\n",
       "       '올인원 패키지 : 디지털 마케팅_5. 태그매니저', '007.빅데이터',\n",
       "       '모바일 앱 GUI 포트폴리오 디자인 LAB', '올인원 패키지 : 디지털 마케팅_8. 검색 마케팅',\n",
       "       'Javascript 정복 프로젝트', '올인원 패키지 : 콘텐츠 마케팅_콘텐츠 제작',\n",
       "       '올인원 패키지 : 디지털 마케팅_트위터광고', '올인원 패키지 : 1인 쇼핑몰 시작하기_04.호스팅사',\n",
       "       '쉽고 재미있는 재무제표 분석 17기', '1_2 대표 경쟁', 'Java 웹 프로그래밍 마스터 4기 : 3개월',\n",
       "       '올인원 패키지 : 그로스해킹_2.그로스해킹', '크리에이티브 전체', '002.UX/UI',\n",
       "       'fin_camp_feasibilitystudy_18', 'Vue.js 정복 CAMP', '4. 웹의 동작',\n",
       "       '머신러닝을 위한 선형대수학', '6_스타트업 M&A에 대한 단상(스타트업)', 'iOS 개발 스쿨 9기_기존 키워드',\n",
       "       '006.딥러닝', 'UX 디자인 실전', '디지털 마케팅', '올인원 패키지 : 리더를 위한 HR/인재경영_5.HR',\n",
       "       '올인원 패키지 : 영상 제작/편집_4.포토샵', '데이터 사이언스 전체',\n",
       "       '올인원 패키지 : 파이썬 웹 개발_4.Django', '올인원 패키지 : 리더를 위한 HR/인재경영_3.온보딩',\n",
       "       '3. 파이썬', '컴퓨터공학으로 풀어낸 블록체인 코어 CAMP', '7_How to 벤처캐피탈',\n",
       "       '3_기업가치평가 방법론', '자율주행 연구를 위한 ROS·SLAM Workshop',\n",
       "       '프론트엔드 개발 스쿨 12기_기존 키워드', '개발자와 협업하는 디자이너를 위한 실무 역량 강화',\n",
       "       '올인원 패키지 : 1인 쇼핑몰 시작하기_03.결제시스템', '웹 프로그래밍 스쿨 10기_기존 키워드',\n",
       "       '올인원 패키지 : 디지털 마케팅_인스타광고', '다함께 DDD 프로젝트', 'fin_camp_rfs_9',\n",
       "       'Hyperledger Fabric 프로젝트 CAMP', 'fin_camp_business_4'],\n",
       "      dtype=object)"
      ]
     },
     "execution_count": 30,
     "metadata": {},
     "output_type": "execute_result"
    }
   ],
   "source": [
    "ad['광고그룹'].unique()"
   ]
  },
  {
   "cell_type": "code",
   "execution_count": 31,
   "metadata": {},
   "outputs": [
    {
     "data": {
      "text/plain": [
       "186"
      ]
     },
     "execution_count": 31,
     "metadata": {},
     "output_type": "execute_result"
    }
   ],
   "source": [
    "len(ad['광고그룹'].unique())"
   ]
  },
  {
   "cell_type": "markdown",
   "metadata": {},
   "source": [
    "value_counts() - 열의 고유값으 빈도 출력"
   ]
  },
  {
   "cell_type": "code",
   "execution_count": 32,
   "metadata": {},
   "outputs": [
    {
     "data": {
      "text/plain": [
       "올인원 패키지 : 업무자동화_3. 엑셀           93\n",
       "AOP 전체_중복키워드_디자인                57\n",
       "#000_마케팅 전체_main                48\n",
       "ㅍAOP 전체_중복키워드_디자인(삭제)           46\n",
       "타이포그래피와 편집디자인                   26\n",
       "                                ..\n",
       "올인원 패키지 : 파이썬 웹 개발_3.FLASK기초     1\n",
       "올인원 패키지 : 영상 제작/편집_5.일러스트        1\n",
       "UX 디자인 실전                        1\n",
       "올인원 패키지 : 영상 제작/편집_10.패캠강의       1\n",
       "컴퓨터공학으로 풀어낸 블록체인 코어 CAMP         1\n",
       "Name: 광고그룹, Length: 186, dtype: int64"
      ]
     },
     "execution_count": 32,
     "metadata": {},
     "output_type": "execute_result"
    }
   ],
   "source": [
    "ad['광고그룹'].value_counts()"
   ]
  },
  {
   "cell_type": "markdown",
   "metadata": {},
   "source": [
    "sort_values(ascending = True) - 내림차순 정렬 (default : 오름차순(ascending = True))"
   ]
  },
  {
   "cell_type": "code",
   "execution_count": 33,
   "metadata": {},
   "outputs": [
    {
     "data": {
      "text/plain": [
       "1057       1001\n",
       "445        1003\n",
       "597        1005\n",
       "983        1006\n",
       "442        1007\n",
       "         ...   \n",
       "13      1470452\n",
       "9       1887822\n",
       "0       2319456\n",
       "173     3095998\n",
       "4       9626374\n",
       "Name: 노출수, Length: 1381, dtype: int64"
      ]
     },
     "execution_count": 33,
     "metadata": {},
     "output_type": "execute_result"
    }
   ],
   "source": [
    "# 노출수 기준 정렬하기\n",
    "ad['노출수'].sort_values()"
   ]
  },
  {
   "cell_type": "markdown",
   "metadata": {},
   "source": [
    "## 데이터 시각화"
   ]
  },
  {
   "cell_type": "markdown",
   "metadata": {},
   "source": [
    "* 한글이 깨지는 것 방지"
   ]
  },
  {
   "cell_type": "code",
   "execution_count": 120,
   "metadata": {},
   "outputs": [],
   "source": [
    "# matplotlib 한글 폰트 출력코드\n",
    "# 출처 : 데이터공방( https://kiddwannabe.blog.me)\n",
    "\n",
    "import matplotlib\n",
    "from matplotlib import font_manager, rc\n",
    "import platform\n",
    "\n",
    "try : \n",
    "    if platform.system() == 'Windows':\n",
    "    # 윈도우인 경우\n",
    "        font_name = font_manager.FontProperties(fname=\"c:/Windows/Fonts/malgun.ttf\").get_name()\n",
    "        rc('font', family=font_name)\n",
    "    else:    \n",
    "    # Mac 인 경우\n",
    "        rc('font', family='AppleGothic')\n",
    "except : \n",
    "    pass\n",
    "matplotlib.rcParams['axes.unicode_minus'] = False   "
   ]
  },
  {
   "cell_type": "markdown",
   "metadata": {},
   "source": [
    "#### 시리즈 시각화\n",
    "\n",
    "데이터 프레임의 하나의 열(시리즈)을 시각화"
   ]
  },
  {
   "cell_type": "code",
   "execution_count": 35,
   "metadata": {},
   "outputs": [
    {
     "data": {
      "text/plain": [
       "pandas.core.series.Series"
      ]
     },
     "execution_count": 35,
     "metadata": {},
     "output_type": "execute_result"
    }
   ],
   "source": [
    "type(ad['노출수'])"
   ]
  },
  {
   "cell_type": "code",
   "execution_count": 36,
   "metadata": {},
   "outputs": [
    {
     "data": {
      "image/png": "[encoded data removed]",
      "text/plain": [
       "<Figure size 432x288 with 1 Axes>"
      ]
     },
     "metadata": {
      "needs_background": "light"
     },
     "output_type": "display_data"
    }
   ],
   "source": [
    "ad['노출수'].plot()\n",
    "plt.show()"
   ]
  },
  {
   "cell_type": "markdown",
   "metadata": {},
   "source": [
    "**Series의 value를 수치 순서대로 오름차순 정렬 후 시각화**"
   ]
  },
  {
   "cell_type": "code",
   "execution_count": 53,
   "metadata": {},
   "outputs": [
    {
     "data": {
      "text/plain": [
       "1057       1001\n",
       "445        1003\n",
       "597        1005\n",
       "983        1006\n",
       "442        1007\n",
       "         ...   \n",
       "13      1470452\n",
       "9       1887822\n",
       "0       2319456\n",
       "173     3095998\n",
       "4       9626374\n",
       "Name: 노출수, Length: 1381, dtype: int64"
      ]
     },
     "execution_count": 53,
     "metadata": {},
     "output_type": "execute_result"
    }
   ],
   "source": [
    "imp_sort = ad['노출수'].sort_values()\n",
    "imp_sort"
   ]
  },
  {
   "cell_type": "markdown",
   "metadata": {},
   "source": [
    "reset_index() - 인덱스 재생성, 기존 인덱스를 데이터프레임의 열로 반환"
   ]
  },
  {
   "cell_type": "code",
   "execution_count": 54,
   "metadata": {},
   "outputs": [
    {
     "data": {
      "text/html": [
       "<div>\n",
       "<style scoped>\n",
       "    .dataframe tbody tr th:only-of-type {\n",
       "        vertical-align: middle;\n",
       "    }\n",
       "\n",
       "    .dataframe tbody tr th {\n",
       "        vertical-align: top;\n",
       "    }\n",
       "\n",
       "    .dataframe thead th {\n",
       "        text-align: right;\n",
       "    }\n",
       "</style>\n",
       "<table border=\"1\" class=\"dataframe\">\n",
       "  <thead>\n",
       "    <tr style=\"text-align: right;\">\n",
       "      <th></th>\n",
       "      <th>index</th>\n",
       "      <th>노출수</th>\n",
       "    </tr>\n",
       "  </thead>\n",
       "  <tbody>\n",
       "    <tr>\n",
       "      <th>0</th>\n",
       "      <td>1057</td>\n",
       "      <td>1001</td>\n",
       "    </tr>\n",
       "    <tr>\n",
       "      <th>1</th>\n",
       "      <td>445</td>\n",
       "      <td>1003</td>\n",
       "    </tr>\n",
       "    <tr>\n",
       "      <th>2</th>\n",
       "      <td>597</td>\n",
       "      <td>1005</td>\n",
       "    </tr>\n",
       "    <tr>\n",
       "      <th>3</th>\n",
       "      <td>983</td>\n",
       "      <td>1006</td>\n",
       "    </tr>\n",
       "    <tr>\n",
       "      <th>4</th>\n",
       "      <td>442</td>\n",
       "      <td>1007</td>\n",
       "    </tr>\n",
       "    <tr>\n",
       "      <th>...</th>\n",
       "      <td>...</td>\n",
       "      <td>...</td>\n",
       "    </tr>\n",
       "    <tr>\n",
       "      <th>1376</th>\n",
       "      <td>13</td>\n",
       "      <td>1470452</td>\n",
       "    </tr>\n",
       "    <tr>\n",
       "      <th>1377</th>\n",
       "      <td>9</td>\n",
       "      <td>1887822</td>\n",
       "    </tr>\n",
       "    <tr>\n",
       "      <th>1378</th>\n",
       "      <td>0</td>\n",
       "      <td>2319456</td>\n",
       "    </tr>\n",
       "    <tr>\n",
       "      <th>1379</th>\n",
       "      <td>173</td>\n",
       "      <td>3095998</td>\n",
       "    </tr>\n",
       "    <tr>\n",
       "      <th>1380</th>\n",
       "      <td>4</td>\n",
       "      <td>9626374</td>\n",
       "    </tr>\n",
       "  </tbody>\n",
       "</table>\n",
       "<p>1381 rows × 2 columns</p>\n",
       "</div>"
      ],
      "text/plain": [
       "      index      노출수\n",
       "0      1057     1001\n",
       "1       445     1003\n",
       "2       597     1005\n",
       "3       983     1006\n",
       "4       442     1007\n",
       "...     ...      ...\n",
       "1376     13  1470452\n",
       "1377      9  1887822\n",
       "1378      0  2319456\n",
       "1379    173  3095998\n",
       "1380      4  9626374\n",
       "\n",
       "[1381 rows x 2 columns]"
      ]
     },
     "execution_count": 54,
     "metadata": {},
     "output_type": "execute_result"
    }
   ],
   "source": [
    "imp_sort = imp_sort.reset_index()\n",
    "imp_sort"
   ]
  },
  {
   "cell_type": "markdown",
   "metadata": {},
   "source": [
    "drop('열 이름', axis = 1, inplace = T/F) - 열 기준(axis = 1)으로 삭제. (default : inplace = False)"
   ]
  },
  {
   "cell_type": "code",
   "execution_count": 55,
   "metadata": {},
   "outputs": [],
   "source": [
    "imp_sort.drop('index',axis = 1, inplace = True)"
   ]
  },
  {
   "cell_type": "code",
   "execution_count": 56,
   "metadata": {},
   "outputs": [
    {
     "data": {
      "text/html": [
       "<div>\n",
       "<style scoped>\n",
       "    .dataframe tbody tr th:only-of-type {\n",
       "        vertical-align: middle;\n",
       "    }\n",
       "\n",
       "    .dataframe tbody tr th {\n",
       "        vertical-align: top;\n",
       "    }\n",
       "\n",
       "    .dataframe thead th {\n",
       "        text-align: right;\n",
       "    }\n",
       "</style>\n",
       "<table border=\"1\" class=\"dataframe\">\n",
       "  <thead>\n",
       "    <tr style=\"text-align: right;\">\n",
       "      <th></th>\n",
       "      <th>노출수</th>\n",
       "    </tr>\n",
       "  </thead>\n",
       "  <tbody>\n",
       "    <tr>\n",
       "      <th>0</th>\n",
       "      <td>1001</td>\n",
       "    </tr>\n",
       "    <tr>\n",
       "      <th>1</th>\n",
       "      <td>1003</td>\n",
       "    </tr>\n",
       "    <tr>\n",
       "      <th>2</th>\n",
       "      <td>1005</td>\n",
       "    </tr>\n",
       "    <tr>\n",
       "      <th>3</th>\n",
       "      <td>1006</td>\n",
       "    </tr>\n",
       "    <tr>\n",
       "      <th>4</th>\n",
       "      <td>1007</td>\n",
       "    </tr>\n",
       "    <tr>\n",
       "      <th>...</th>\n",
       "      <td>...</td>\n",
       "    </tr>\n",
       "    <tr>\n",
       "      <th>1376</th>\n",
       "      <td>1470452</td>\n",
       "    </tr>\n",
       "    <tr>\n",
       "      <th>1377</th>\n",
       "      <td>1887822</td>\n",
       "    </tr>\n",
       "    <tr>\n",
       "      <th>1378</th>\n",
       "      <td>2319456</td>\n",
       "    </tr>\n",
       "    <tr>\n",
       "      <th>1379</th>\n",
       "      <td>3095998</td>\n",
       "    </tr>\n",
       "    <tr>\n",
       "      <th>1380</th>\n",
       "      <td>9626374</td>\n",
       "    </tr>\n",
       "  </tbody>\n",
       "</table>\n",
       "<p>1381 rows × 1 columns</p>\n",
       "</div>"
      ],
      "text/plain": [
       "          노출수\n",
       "0        1001\n",
       "1        1003\n",
       "2        1005\n",
       "3        1006\n",
       "4        1007\n",
       "...       ...\n",
       "1376  1470452\n",
       "1377  1887822\n",
       "1378  2319456\n",
       "1379  3095998\n",
       "1380  9626374\n",
       "\n",
       "[1381 rows x 1 columns]"
      ]
     },
     "execution_count": 56,
     "metadata": {},
     "output_type": "execute_result"
    }
   ],
   "source": [
    "imp_sort"
   ]
  },
  {
   "cell_type": "code",
   "execution_count": 57,
   "metadata": {},
   "outputs": [
    {
     "name": "stderr",
     "output_type": "stream",
     "text": [
      "C:\\Users\\Gyu-ri Kim\\anaconda3\\lib\\site-packages\\matplotlib\\backends\\backend_agg.py:238: RuntimeWarning: Glyph 45432 missing from current font.\n",
      "  font.set_text(s, 0.0, flags=flags)\n",
      "C:\\Users\\Gyu-ri Kim\\anaconda3\\lib\\site-packages\\matplotlib\\backends\\backend_agg.py:238: RuntimeWarning: Glyph 52636 missing from current font.\n",
      "  font.set_text(s, 0.0, flags=flags)\n",
      "C:\\Users\\Gyu-ri Kim\\anaconda3\\lib\\site-packages\\matplotlib\\backends\\backend_agg.py:238: RuntimeWarning: Glyph 49688 missing from current font.\n",
      "  font.set_text(s, 0.0, flags=flags)\n",
      "C:\\Users\\Gyu-ri Kim\\anaconda3\\lib\\site-packages\\matplotlib\\backends\\backend_agg.py:201: RuntimeWarning: Glyph 45432 missing from current font.\n",
      "  font.set_text(s, 0, flags=flags)\n",
      "C:\\Users\\Gyu-ri Kim\\anaconda3\\lib\\site-packages\\matplotlib\\backends\\backend_agg.py:201: RuntimeWarning: Glyph 52636 missing from current font.\n",
      "  font.set_text(s, 0, flags=flags)\n",
      "C:\\Users\\Gyu-ri Kim\\anaconda3\\lib\\site-packages\\matplotlib\\backends\\backend_agg.py:201: RuntimeWarning: Glyph 49688 missing from current font.\n",
      "  font.set_text(s, 0, flags=flags)\n"
     ]
    },
    {
     "data": {
      "image/png": "[encoded data removed]",
      "text/plain": [
       "<Figure size 432x288 with 1 Axes>"
      ]
     },
     "metadata": {
      "needs_background": "light"
     },
     "output_type": "display_data"
    }
   ],
   "source": [
    "imp_sort.plot()\n",
    "plt.show()"
   ]
  },
  {
   "cell_type": "markdown",
   "metadata": {},
   "source": [
    "**클릭수 시각화**"
   ]
  },
  {
   "cell_type": "code",
   "execution_count": 59,
   "metadata": {},
   "outputs": [
    {
     "name": "stderr",
     "output_type": "stream",
     "text": [
      "C:\\Users\\Gyu-ri Kim\\anaconda3\\lib\\site-packages\\matplotlib\\backends\\backend_agg.py:238: RuntimeWarning: Glyph 53364 missing from current font.\n",
      "  font.set_text(s, 0.0, flags=flags)\n",
      "C:\\Users\\Gyu-ri Kim\\anaconda3\\lib\\site-packages\\matplotlib\\backends\\backend_agg.py:238: RuntimeWarning: Glyph 47533 missing from current font.\n",
      "  font.set_text(s, 0.0, flags=flags)\n",
      "C:\\Users\\Gyu-ri Kim\\anaconda3\\lib\\site-packages\\matplotlib\\backends\\backend_agg.py:238: RuntimeWarning: Glyph 49688 missing from current font.\n",
      "  font.set_text(s, 0.0, flags=flags)\n",
      "C:\\Users\\Gyu-ri Kim\\anaconda3\\lib\\site-packages\\matplotlib\\backends\\backend_agg.py:201: RuntimeWarning: Glyph 53364 missing from current font.\n",
      "  font.set_text(s, 0, flags=flags)\n",
      "C:\\Users\\Gyu-ri Kim\\anaconda3\\lib\\site-packages\\matplotlib\\backends\\backend_agg.py:201: RuntimeWarning: Glyph 47533 missing from current font.\n",
      "  font.set_text(s, 0, flags=flags)\n",
      "C:\\Users\\Gyu-ri Kim\\anaconda3\\lib\\site-packages\\matplotlib\\backends\\backend_agg.py:201: RuntimeWarning: Glyph 49688 missing from current font.\n",
      "  font.set_text(s, 0, flags=flags)\n"
     ]
    },
    {
     "data": {
      "image/png": "[encoded data removed]",
      "text/plain": [
       "<Figure size 432x288 with 1 Axes>"
      ]
     },
     "metadata": {
      "needs_background": "light"
     },
     "output_type": "display_data"
    }
   ],
   "source": [
    "(((ad['클릭수'].sort_values()).reset_index()).drop('index',axis = 1)).plot()\n",
    "plt.show()"
   ]
  },
  {
   "cell_type": "markdown",
   "metadata": {},
   "source": [
    "'노출수'와 '클릭수'를 시각화한 결과 상위 5%를 제외하고 대부분 최소값에 머물러 있는 것을 알 수 있음   "
   ]
  },
  {
   "cell_type": "markdown",
   "metadata": {},
   "source": [
    "**총비용 시각화**"
   ]
  },
  {
   "cell_type": "code",
   "execution_count": 60,
   "metadata": {},
   "outputs": [
    {
     "name": "stderr",
     "output_type": "stream",
     "text": [
      "C:\\Users\\Gyu-ri Kim\\anaconda3\\lib\\site-packages\\matplotlib\\backends\\backend_agg.py:238: RuntimeWarning: Glyph 52509 missing from current font.\n",
      "  font.set_text(s, 0.0, flags=flags)\n",
      "C:\\Users\\Gyu-ri Kim\\anaconda3\\lib\\site-packages\\matplotlib\\backends\\backend_agg.py:238: RuntimeWarning: Glyph 48708 missing from current font.\n",
      "  font.set_text(s, 0.0, flags=flags)\n",
      "C:\\Users\\Gyu-ri Kim\\anaconda3\\lib\\site-packages\\matplotlib\\backends\\backend_agg.py:238: RuntimeWarning: Glyph 50857 missing from current font.\n",
      "  font.set_text(s, 0.0, flags=flags)\n",
      "C:\\Users\\Gyu-ri Kim\\anaconda3\\lib\\site-packages\\matplotlib\\backends\\backend_agg.py:238: RuntimeWarning: Glyph 54252 missing from current font.\n",
      "  font.set_text(s, 0.0, flags=flags)\n",
      "C:\\Users\\Gyu-ri Kim\\anaconda3\\lib\\site-packages\\matplotlib\\backends\\backend_agg.py:238: RuntimeWarning: Glyph 54632 missing from current font.\n",
      "  font.set_text(s, 0.0, flags=flags)\n",
      "C:\\Users\\Gyu-ri Kim\\anaconda3\\lib\\site-packages\\matplotlib\\backends\\backend_agg.py:238: RuntimeWarning: Glyph 50896 missing from current font.\n",
      "  font.set_text(s, 0.0, flags=flags)\n",
      "C:\\Users\\Gyu-ri Kim\\anaconda3\\lib\\site-packages\\matplotlib\\backends\\backend_agg.py:201: RuntimeWarning: Glyph 52509 missing from current font.\n",
      "  font.set_text(s, 0, flags=flags)\n",
      "C:\\Users\\Gyu-ri Kim\\anaconda3\\lib\\site-packages\\matplotlib\\backends\\backend_agg.py:201: RuntimeWarning: Glyph 48708 missing from current font.\n",
      "  font.set_text(s, 0, flags=flags)\n",
      "C:\\Users\\Gyu-ri Kim\\anaconda3\\lib\\site-packages\\matplotlib\\backends\\backend_agg.py:201: RuntimeWarning: Glyph 50857 missing from current font.\n",
      "  font.set_text(s, 0, flags=flags)\n",
      "C:\\Users\\Gyu-ri Kim\\anaconda3\\lib\\site-packages\\matplotlib\\backends\\backend_agg.py:201: RuntimeWarning: Glyph 54252 missing from current font.\n",
      "  font.set_text(s, 0, flags=flags)\n",
      "C:\\Users\\Gyu-ri Kim\\anaconda3\\lib\\site-packages\\matplotlib\\backends\\backend_agg.py:201: RuntimeWarning: Glyph 54632 missing from current font.\n",
      "  font.set_text(s, 0, flags=flags)\n",
      "C:\\Users\\Gyu-ri Kim\\anaconda3\\lib\\site-packages\\matplotlib\\backends\\backend_agg.py:201: RuntimeWarning: Glyph 50896 missing from current font.\n",
      "  font.set_text(s, 0, flags=flags)\n"
     ]
    },
    {
     "data": {
      "image/png": "[encoded data removed]",
      "text/plain": [
       "<Figure size 432x288 with 1 Axes>"
      ]
     },
     "metadata": {
      "needs_background": "light"
     },
     "output_type": "display_data"
    }
   ],
   "source": [
    "(((ad['총비용(VAT포함,원)'].sort_values()).reset_index()).drop('index',axis = 1)).plot()\n",
    "plt.show()"
   ]
  },
  {
   "cell_type": "markdown",
   "metadata": {},
   "source": [
    "총비용의 경우 상위 15% 정도만을 제외하고 최소값 주위에 머무르는 것을 알 수 있음"
   ]
  },
  {
   "cell_type": "markdown",
   "metadata": {},
   "source": [
    "## 데이터 분석\n",
    "\n",
    "### 중점관리키워드 추출\n",
    "\n",
    "* 중점관리키워드 : 노출수, 클릭수 기준 상위 5%에 해당하는 키워드 추출\n",
    "    1. 95백분위수 찾기\n",
    "    2. 95백분위수 이상의 노출수 추출 \n",
    "    3. 노출수/클릭수 상위 5%에 해당하는 키워드 추출\n",
    "    4. 중점관리 키워드 추출"
   ]
  },
  {
   "cell_type": "code",
   "execution_count": 61,
   "metadata": {},
   "outputs": [],
   "source": [
    "imp = ad['노출수']"
   ]
  },
  {
   "cell_type": "markdown",
   "metadata": {},
   "source": [
    "#### 1. 95백분위수 찾기"
   ]
  },
  {
   "cell_type": "markdown",
   "metadata": {},
   "source": [
    "quantile() - 분위수 출력 (default : 2사분위수)"
   ]
  },
  {
   "cell_type": "code",
   "execution_count": 63,
   "metadata": {},
   "outputs": [
    {
     "name": "stdout",
     "output_type": "stream",
     "text": [
      "3805.0\n",
      "3805.0\n"
     ]
    }
   ],
   "source": [
    "print(imp.quantile())\n",
    "print(imp.median())"
   ]
  },
  {
   "cell_type": "code",
   "execution_count": 64,
   "metadata": {},
   "outputs": [
    {
     "name": "stdout",
     "output_type": "stream",
     "text": [
      "1001.0\n",
      "1001\n"
     ]
    }
   ],
   "source": [
    "# qauntile(0) - 최소값\n",
    "print(imp.quantile(0))\n",
    "print(imp.min())"
   ]
  },
  {
   "cell_type": "code",
   "execution_count": 65,
   "metadata": {},
   "outputs": [
    {
     "name": "stdout",
     "output_type": "stream",
     "text": [
      "9626374.0\n",
      "9626374\n"
     ]
    }
   ],
   "source": [
    "# qauntile(1) - 최대값\n",
    "print(imp.quantile(1))\n",
    "print(imp.max())"
   ]
  },
  {
   "cell_type": "code",
   "execution_count": 66,
   "metadata": {},
   "outputs": [
    {
     "data": {
      "text/plain": [
       "82858.0"
      ]
     },
     "execution_count": 66,
     "metadata": {},
     "output_type": "execute_result"
    }
   ],
   "source": [
    "# 95백분위수\n",
    "imp.quantile(0.95)"
   ]
  },
  {
   "cell_type": "markdown",
   "metadata": {},
   "source": [
    "#### 2. 95백분위수 이상의 노출수 추출"
   ]
  },
  {
   "cell_type": "code",
   "execution_count": 67,
   "metadata": {},
   "outputs": [],
   "source": [
    "imp = imp[imp >= imp.quantile(0.95)]"
   ]
  },
  {
   "cell_type": "code",
   "execution_count": 68,
   "metadata": {},
   "outputs": [
    {
     "data": {
      "text/plain": [
       "0      2319456\n",
       "1       767491\n",
       "2      1137840\n",
       "3       694106\n",
       "4      9626374\n",
       "        ...   \n",
       "698     196862\n",
       "741      94933\n",
       "763      82858\n",
       "777     126393\n",
       "780      90041\n",
       "Name: 노출수, Length: 70, dtype: int64"
      ]
     },
     "execution_count": 68,
     "metadata": {},
     "output_type": "execute_result"
    }
   ],
   "source": [
    "imp"
   ]
  },
  {
   "cell_type": "markdown",
   "metadata": {},
   "source": [
    "#### 3-1. 노출수 상위 5%에 해당하는 키워드 추출\n",
    "\n",
    "set_index('열 이름') - 인덱스 재설정"
   ]
  },
  {
   "cell_type": "code",
   "execution_count": 85,
   "metadata": {},
   "outputs": [],
   "source": [
    "ad_index = ad.set_index('키워드')"
   ]
  },
  {
   "cell_type": "code",
   "execution_count": 86,
   "metadata": {},
   "outputs": [
    {
     "data": {
      "text/html": [
       "<div>\n",
       "<style scoped>\n",
       "    .dataframe tbody tr th:only-of-type {\n",
       "        vertical-align: middle;\n",
       "    }\n",
       "\n",
       "    .dataframe tbody tr th {\n",
       "        vertical-align: top;\n",
       "    }\n",
       "\n",
       "    .dataframe thead th {\n",
       "        text-align: right;\n",
       "    }\n",
       "</style>\n",
       "<table border=\"1\" class=\"dataframe\">\n",
       "  <thead>\n",
       "    <tr style=\"text-align: right;\">\n",
       "      <th></th>\n",
       "      <th>광고그룹</th>\n",
       "      <th>노출수</th>\n",
       "      <th>클릭수</th>\n",
       "      <th>클릭률(%)</th>\n",
       "      <th>평균클릭비용(VAT포함,원)</th>\n",
       "      <th>총비용(VAT포함,원)</th>\n",
       "    </tr>\n",
       "    <tr>\n",
       "      <th>키워드</th>\n",
       "      <th></th>\n",
       "      <th></th>\n",
       "      <th></th>\n",
       "      <th></th>\n",
       "      <th></th>\n",
       "      <th></th>\n",
       "    </tr>\n",
       "  </thead>\n",
       "  <tbody>\n",
       "    <tr>\n",
       "      <th>-</th>\n",
       "      <td>올인원 패키지 : 디자인 툴_파워컨텐츠_포토샵</td>\n",
       "      <td>2319456</td>\n",
       "      <td>9606</td>\n",
       "      <td>0.41</td>\n",
       "      <td>262</td>\n",
       "      <td>2512444</td>\n",
       "    </tr>\n",
       "    <tr>\n",
       "      <th>-</th>\n",
       "      <td>올인원 패키지 : 업무자동화_VBA</td>\n",
       "      <td>767491</td>\n",
       "      <td>8058</td>\n",
       "      <td>1.05</td>\n",
       "      <td>296</td>\n",
       "      <td>2384965</td>\n",
       "    </tr>\n",
       "    <tr>\n",
       "      <th>일러스트</th>\n",
       "      <td>ㅍAOP 전체_중복키워드_디자인(삭제)</td>\n",
       "      <td>1137840</td>\n",
       "      <td>324</td>\n",
       "      <td>0.03</td>\n",
       "      <td>4842</td>\n",
       "      <td>1568699</td>\n",
       "    </tr>\n",
       "    <tr>\n",
       "      <th>-</th>\n",
       "      <td>올인원 패키지 : 데이터 분석 입문 온라인_파콘</td>\n",
       "      <td>694106</td>\n",
       "      <td>1864</td>\n",
       "      <td>0.27</td>\n",
       "      <td>631</td>\n",
       "      <td>1175174</td>\n",
       "    </tr>\n",
       "    <tr>\n",
       "      <th>HTML</th>\n",
       "      <td>3. html</td>\n",
       "      <td>9626374</td>\n",
       "      <td>814</td>\n",
       "      <td>0.01</td>\n",
       "      <td>1408</td>\n",
       "      <td>1145903</td>\n",
       "    </tr>\n",
       "    <tr>\n",
       "      <th>...</th>\n",
       "      <td>...</td>\n",
       "      <td>...</td>\n",
       "      <td>...</td>\n",
       "      <td>...</td>\n",
       "      <td>...</td>\n",
       "      <td>...</td>\n",
       "    </tr>\n",
       "    <tr>\n",
       "      <th>엑셀셀서식</th>\n",
       "      <td>올인원 패키지 : 업무자동화_3. 엑셀</td>\n",
       "      <td>24016</td>\n",
       "      <td>0</td>\n",
       "      <td>0.00</td>\n",
       "      <td>0</td>\n",
       "      <td>0</td>\n",
       "    </tr>\n",
       "    <tr>\n",
       "      <th>MATCH</th>\n",
       "      <td>올인원 패키지 : 업무자동화_3. 엑셀</td>\n",
       "      <td>32287</td>\n",
       "      <td>0</td>\n",
       "      <td>0.00</td>\n",
       "      <td>0</td>\n",
       "      <td>0</td>\n",
       "    </tr>\n",
       "    <tr>\n",
       "      <th>LTV</th>\n",
       "      <td>마케팅KPI수립</td>\n",
       "      <td>32602</td>\n",
       "      <td>0</td>\n",
       "      <td>0.00</td>\n",
       "      <td>0</td>\n",
       "      <td>0</td>\n",
       "    </tr>\n",
       "    <tr>\n",
       "      <th>DECISION</th>\n",
       "      <td>data_camp_rmp_8</td>\n",
       "      <td>60844</td>\n",
       "      <td>0</td>\n",
       "      <td>0.00</td>\n",
       "      <td>0</td>\n",
       "      <td>0</td>\n",
       "    </tr>\n",
       "    <tr>\n",
       "      <th>REST</th>\n",
       "      <td>4. 웹의 동작</td>\n",
       "      <td>61193</td>\n",
       "      <td>0</td>\n",
       "      <td>0.00</td>\n",
       "      <td>0</td>\n",
       "      <td>0</td>\n",
       "    </tr>\n",
       "  </tbody>\n",
       "</table>\n",
       "<p>1381 rows × 6 columns</p>\n",
       "</div>"
      ],
      "text/plain": [
       "                                광고그룹      노출수   클릭수  클릭률(%)  평균클릭비용(VAT포함,원)  \\\n",
       "키워드                                                                            \n",
       "-          올인원 패키지 : 디자인 툴_파워컨텐츠_포토샵  2319456  9606    0.41              262   \n",
       "-                올인원 패키지 : 업무자동화_VBA   767491  8058    1.05              296   \n",
       "일러스트           ㅍAOP 전체_중복키워드_디자인(삭제)  1137840   324    0.03             4842   \n",
       "-         올인원 패키지 : 데이터 분석 입문 온라인_파콘   694106  1864    0.27              631   \n",
       "HTML                         3. html  9626374   814    0.01             1408   \n",
       "...                              ...      ...   ...     ...              ...   \n",
       "엑셀셀서식          올인원 패키지 : 업무자동화_3. 엑셀    24016     0    0.00                0   \n",
       "MATCH          올인원 패키지 : 업무자동화_3. 엑셀    32287     0    0.00                0   \n",
       "LTV                         마케팅KPI수립    32602     0    0.00                0   \n",
       "DECISION             data_camp_rmp_8    60844     0    0.00                0   \n",
       "REST                        4. 웹의 동작    61193     0    0.00                0   \n",
       "\n",
       "          총비용(VAT포함,원)  \n",
       "키워드                     \n",
       "-              2512444  \n",
       "-              2384965  \n",
       "일러스트           1568699  \n",
       "-              1175174  \n",
       "HTML           1145903  \n",
       "...                ...  \n",
       "엑셀셀서식                0  \n",
       "MATCH                0  \n",
       "LTV                  0  \n",
       "DECISION             0  \n",
       "REST                 0  \n",
       "\n",
       "[1381 rows x 6 columns]"
      ]
     },
     "execution_count": 86,
     "metadata": {},
     "output_type": "execute_result"
    }
   ],
   "source": [
    "ad_index"
   ]
  },
  {
   "cell_type": "code",
   "execution_count": 87,
   "metadata": {},
   "outputs": [
    {
     "data": {
      "text/plain": [
       "키워드\n",
       "-           2319456\n",
       "-            767491\n",
       "일러스트        1137840\n",
       "-            694106\n",
       "HTML        9626374\n",
       "             ...   \n",
       "엑셀셀서식         24016\n",
       "MATCH         32287\n",
       "LTV           32602\n",
       "DECISION      60844\n",
       "REST          61193\n",
       "Name: 노출수, Length: 1381, dtype: int64"
      ]
     },
     "execution_count": 87,
     "metadata": {},
     "output_type": "execute_result"
    }
   ],
   "source": [
    "imp = ad_index['노출수']\n",
    "imp"
   ]
  },
  {
   "cell_type": "code",
   "execution_count": 88,
   "metadata": {},
   "outputs": [],
   "source": [
    "imp = imp[imp >= imp.quantile(0.95)]"
   ]
  },
  {
   "cell_type": "code",
   "execution_count": 89,
   "metadata": {},
   "outputs": [
    {
     "data": {
      "text/plain": [
       "키워드\n",
       "-         2319456\n",
       "-          767491\n",
       "일러스트      1137840\n",
       "-          694106\n",
       "HTML      9626374\n",
       "           ...   \n",
       "부동산스터디     196862\n",
       "가상메모리       94933\n",
       "프로모션        82858\n",
       "앱스토어       126393\n",
       "OS          90041\n",
       "Name: 노출수, Length: 70, dtype: int64"
      ]
     },
     "execution_count": 89,
     "metadata": {},
     "output_type": "execute_result"
    }
   ],
   "source": [
    "imp"
   ]
  },
  {
   "cell_type": "markdown",
   "metadata": {},
   "source": [
    "#### 3-2. 클릭수 상위 5%에 해당하는 키워드 추출"
   ]
  },
  {
   "cell_type": "code",
   "execution_count": 90,
   "metadata": {},
   "outputs": [
    {
     "data": {
      "text/plain": [
       "키워드\n",
       "-          9606\n",
       "-          8058\n",
       "일러스트        324\n",
       "-          1864\n",
       "HTML        814\n",
       "           ... \n",
       "재태크         126\n",
       "모스자격증       198\n",
       "펀드하는법       248\n",
       "채권투자        136\n",
       "주식투자하는법     120\n",
       "Name: 클릭수, Length: 70, dtype: int32"
      ]
     },
     "execution_count": 90,
     "metadata": {},
     "output_type": "execute_result"
    }
   ],
   "source": [
    "clk = ad_index['클릭수']\n",
    "clk = clk[clk >= clk.quantile(0.95)]\n",
    "clk"
   ]
  },
  {
   "cell_type": "markdown",
   "metadata": {},
   "source": [
    "#### 4. 중점관리키워드 추출"
   ]
  },
  {
   "cell_type": "code",
   "execution_count": 93,
   "metadata": {},
   "outputs": [],
   "source": [
    "imp = ad_index['노출수']\n",
    "clk = ad_index['클릭수']"
   ]
  },
  {
   "cell_type": "code",
   "execution_count": 94,
   "metadata": {},
   "outputs": [],
   "source": [
    "result = ad_index[(imp >= imp.quantile(0.95))&(clk >= clk.quantile(0.95))]"
   ]
  },
  {
   "cell_type": "code",
   "execution_count": 95,
   "metadata": {},
   "outputs": [
    {
     "data": {
      "text/html": [
       "<div>\n",
       "<style scoped>\n",
       "    .dataframe tbody tr th:only-of-type {\n",
       "        vertical-align: middle;\n",
       "    }\n",
       "\n",
       "    .dataframe tbody tr th {\n",
       "        vertical-align: top;\n",
       "    }\n",
       "\n",
       "    .dataframe thead th {\n",
       "        text-align: right;\n",
       "    }\n",
       "</style>\n",
       "<table border=\"1\" class=\"dataframe\">\n",
       "  <thead>\n",
       "    <tr style=\"text-align: right;\">\n",
       "      <th></th>\n",
       "      <th>광고그룹</th>\n",
       "      <th>노출수</th>\n",
       "      <th>클릭수</th>\n",
       "      <th>클릭률(%)</th>\n",
       "      <th>평균클릭비용(VAT포함,원)</th>\n",
       "      <th>총비용(VAT포함,원)</th>\n",
       "    </tr>\n",
       "    <tr>\n",
       "      <th>키워드</th>\n",
       "      <th></th>\n",
       "      <th></th>\n",
       "      <th></th>\n",
       "      <th></th>\n",
       "      <th></th>\n",
       "      <th></th>\n",
       "    </tr>\n",
       "  </thead>\n",
       "  <tbody>\n",
       "    <tr>\n",
       "      <th>-</th>\n",
       "      <td>올인원 패키지 : 디자인 툴_파워컨텐츠_포토샵</td>\n",
       "      <td>2319456</td>\n",
       "      <td>9606</td>\n",
       "      <td>0.41</td>\n",
       "      <td>262</td>\n",
       "      <td>2512444</td>\n",
       "    </tr>\n",
       "    <tr>\n",
       "      <th>-</th>\n",
       "      <td>올인원 패키지 : 업무자동화_VBA</td>\n",
       "      <td>767491</td>\n",
       "      <td>8058</td>\n",
       "      <td>1.05</td>\n",
       "      <td>296</td>\n",
       "      <td>2384965</td>\n",
       "    </tr>\n",
       "    <tr>\n",
       "      <th>일러스트</th>\n",
       "      <td>ㅍAOP 전체_중복키워드_디자인(삭제)</td>\n",
       "      <td>1137840</td>\n",
       "      <td>324</td>\n",
       "      <td>0.03</td>\n",
       "      <td>4842</td>\n",
       "      <td>1568699</td>\n",
       "    </tr>\n",
       "    <tr>\n",
       "      <th>-</th>\n",
       "      <td>올인원 패키지 : 데이터 분석 입문 온라인_파콘</td>\n",
       "      <td>694106</td>\n",
       "      <td>1864</td>\n",
       "      <td>0.27</td>\n",
       "      <td>631</td>\n",
       "      <td>1175174</td>\n",
       "    </tr>\n",
       "    <tr>\n",
       "      <th>HTML</th>\n",
       "      <td>3. html</td>\n",
       "      <td>9626374</td>\n",
       "      <td>814</td>\n",
       "      <td>0.01</td>\n",
       "      <td>1408</td>\n",
       "      <td>1145903</td>\n",
       "    </tr>\n",
       "    <tr>\n",
       "      <th>파이썬</th>\n",
       "      <td>6. 파이썬</td>\n",
       "      <td>384522</td>\n",
       "      <td>260</td>\n",
       "      <td>0.07</td>\n",
       "      <td>3705</td>\n",
       "      <td>964876</td>\n",
       "    </tr>\n",
       "    <tr>\n",
       "      <th>코딩</th>\n",
       "      <td>1. 코딩</td>\n",
       "      <td>562162</td>\n",
       "      <td>271</td>\n",
       "      <td>0.05</td>\n",
       "      <td>3243</td>\n",
       "      <td>879560</td>\n",
       "    </tr>\n",
       "    <tr>\n",
       "      <th>C언어</th>\n",
       "      <td>2. C언어 일반</td>\n",
       "      <td>271370</td>\n",
       "      <td>154</td>\n",
       "      <td>0.06</td>\n",
       "      <td>5269</td>\n",
       "      <td>809358</td>\n",
       "    </tr>\n",
       "    <tr>\n",
       "      <th>가상화폐</th>\n",
       "      <td>프로그래밍 전체_파워컨텐츠_블록체인(삭제)</td>\n",
       "      <td>91369</td>\n",
       "      <td>2838</td>\n",
       "      <td>3.11</td>\n",
       "      <td>283</td>\n",
       "      <td>803770</td>\n",
       "    </tr>\n",
       "    <tr>\n",
       "      <th>포토샵</th>\n",
       "      <td>AOP 전체_중복키워드_디자인</td>\n",
       "      <td>1887822</td>\n",
       "      <td>394</td>\n",
       "      <td>0.02</td>\n",
       "      <td>1914</td>\n",
       "      <td>753247</td>\n",
       "    </tr>\n",
       "    <tr>\n",
       "      <th>블록체인</th>\n",
       "      <td>블록체인 신사업 시작하기</td>\n",
       "      <td>200243</td>\n",
       "      <td>236</td>\n",
       "      <td>0.12</td>\n",
       "      <td>2722</td>\n",
       "      <td>643478</td>\n",
       "    </tr>\n",
       "    <tr>\n",
       "      <th>엑셀</th>\n",
       "      <td>AOP 전체_중복키워드_비지니스</td>\n",
       "      <td>1470452</td>\n",
       "      <td>450</td>\n",
       "      <td>0.03</td>\n",
       "      <td>1409</td>\n",
       "      <td>633897</td>\n",
       "    </tr>\n",
       "    <tr>\n",
       "      <th>-</th>\n",
       "      <td>올인원 패키지 : 데이터 분석 입문(파컨)</td>\n",
       "      <td>139717</td>\n",
       "      <td>618</td>\n",
       "      <td>0.44</td>\n",
       "      <td>636</td>\n",
       "      <td>393327</td>\n",
       "    </tr>\n",
       "    <tr>\n",
       "      <th>포토샵</th>\n",
       "      <td>올인원 패키지 : 디자인 툴_파워컨텐츠_포토샵</td>\n",
       "      <td>124068</td>\n",
       "      <td>2536</td>\n",
       "      <td>2.04</td>\n",
       "      <td>150</td>\n",
       "      <td>381359</td>\n",
       "    </tr>\n",
       "    <tr>\n",
       "      <th>컴퓨터활용능력</th>\n",
       "      <td>올인원 패키지 : 업무자동화_VBA</td>\n",
       "      <td>139729</td>\n",
       "      <td>1535</td>\n",
       "      <td>1.10</td>\n",
       "      <td>239</td>\n",
       "      <td>367147</td>\n",
       "    </tr>\n",
       "    <tr>\n",
       "      <th>컴퓨터활용능력2급</th>\n",
       "      <td>올인원 패키지 : 업무자동화_VBA</td>\n",
       "      <td>88751</td>\n",
       "      <td>1283</td>\n",
       "      <td>1.45</td>\n",
       "      <td>234</td>\n",
       "      <td>300058</td>\n",
       "    </tr>\n",
       "    <tr>\n",
       "      <th>컴퓨터활용능력1급</th>\n",
       "      <td>올인원 패키지 : 업무자동화_VBA</td>\n",
       "      <td>94757</td>\n",
       "      <td>1192</td>\n",
       "      <td>1.26</td>\n",
       "      <td>237</td>\n",
       "      <td>282018</td>\n",
       "    </tr>\n",
       "    <tr>\n",
       "      <th>포토샵</th>\n",
       "      <td>ㅍAOP 전체_중복키워드_디자인(삭제)</td>\n",
       "      <td>1021846</td>\n",
       "      <td>157</td>\n",
       "      <td>0.02</td>\n",
       "      <td>1625</td>\n",
       "      <td>255475</td>\n",
       "    </tr>\n",
       "    <tr>\n",
       "      <th>-</th>\n",
       "      <td>올인원 패키지 : 프로그래밍 첫걸음 시작하기</td>\n",
       "      <td>88800</td>\n",
       "      <td>599</td>\n",
       "      <td>0.67</td>\n",
       "      <td>352</td>\n",
       "      <td>210650</td>\n",
       "    </tr>\n",
       "    <tr>\n",
       "      <th>프리미어프로</th>\n",
       "      <td>AOP 전체_중복키워드_디자인</td>\n",
       "      <td>213033</td>\n",
       "      <td>132</td>\n",
       "      <td>0.06</td>\n",
       "      <td>1574</td>\n",
       "      <td>207702</td>\n",
       "    </tr>\n",
       "    <tr>\n",
       "      <th>폰트</th>\n",
       "      <td>타이포그래피와 편집디자인</td>\n",
       "      <td>478588</td>\n",
       "      <td>474</td>\n",
       "      <td>0.10</td>\n",
       "      <td>396</td>\n",
       "      <td>187693</td>\n",
       "    </tr>\n",
       "    <tr>\n",
       "      <th>스케치</th>\n",
       "      <td>AOP 전체_중복키워드_디자인</td>\n",
       "      <td>200487</td>\n",
       "      <td>133</td>\n",
       "      <td>0.07</td>\n",
       "      <td>1166</td>\n",
       "      <td>155254</td>\n",
       "    </tr>\n",
       "    <tr>\n",
       "      <th>포토샵</th>\n",
       "      <td>포토샵 유치원_일러스트레이터 유치원</td>\n",
       "      <td>691814</td>\n",
       "      <td>130</td>\n",
       "      <td>0.02</td>\n",
       "      <td>1052</td>\n",
       "      <td>136279</td>\n",
       "    </tr>\n",
       "    <tr>\n",
       "      <th>글씨체</th>\n",
       "      <td>타이포그래피와 편집디자인</td>\n",
       "      <td>106648</td>\n",
       "      <td>216</td>\n",
       "      <td>0.20</td>\n",
       "      <td>425</td>\n",
       "      <td>91806</td>\n",
       "    </tr>\n",
       "    <tr>\n",
       "      <th>한글폰트</th>\n",
       "      <td>타이포그래피와 편집디자인</td>\n",
       "      <td>82983</td>\n",
       "      <td>206</td>\n",
       "      <td>0.25</td>\n",
       "      <td>308</td>\n",
       "      <td>63492</td>\n",
       "    </tr>\n",
       "    <tr>\n",
       "      <th>마블</th>\n",
       "      <td>ㅍAOP 전체_중복키워드_디자인(삭제)</td>\n",
       "      <td>907619</td>\n",
       "      <td>228</td>\n",
       "      <td>0.03</td>\n",
       "      <td>265</td>\n",
       "      <td>60533</td>\n",
       "    </tr>\n",
       "    <tr>\n",
       "      <th>바이럴마케팅</th>\n",
       "      <td>마케팅 전체</td>\n",
       "      <td>3095998</td>\n",
       "      <td>262</td>\n",
       "      <td>0.01</td>\n",
       "      <td>220</td>\n",
       "      <td>57563</td>\n",
       "    </tr>\n",
       "  </tbody>\n",
       "</table>\n",
       "</div>"
      ],
      "text/plain": [
       "                                 광고그룹      노출수   클릭수  클릭률(%)  평균클릭비용(VAT포함,원)  \\\n",
       "키워드                                                                             \n",
       "-           올인원 패키지 : 디자인 툴_파워컨텐츠_포토샵  2319456  9606    0.41              262   \n",
       "-                 올인원 패키지 : 업무자동화_VBA   767491  8058    1.05              296   \n",
       "일러스트            ㅍAOP 전체_중복키워드_디자인(삭제)  1137840   324    0.03             4842   \n",
       "-          올인원 패키지 : 데이터 분석 입문 온라인_파콘   694106  1864    0.27              631   \n",
       "HTML                          3. html  9626374   814    0.01             1408   \n",
       "파이썬                            6. 파이썬   384522   260    0.07             3705   \n",
       "코딩                              1. 코딩   562162   271    0.05             3243   \n",
       "C언어                         2. C언어 일반   271370   154    0.06             5269   \n",
       "가상화폐          프로그래밍 전체_파워컨텐츠_블록체인(삭제)    91369  2838    3.11              283   \n",
       "포토샵                  AOP 전체_중복키워드_디자인  1887822   394    0.02             1914   \n",
       "블록체인                    블록체인 신사업 시작하기   200243   236    0.12             2722   \n",
       "엑셀                  AOP 전체_중복키워드_비지니스  1470452   450    0.03             1409   \n",
       "-             올인원 패키지 : 데이터 분석 입문(파컨)   139717   618    0.44              636   \n",
       "포토샵         올인원 패키지 : 디자인 툴_파워컨텐츠_포토샵   124068  2536    2.04              150   \n",
       "컴퓨터활용능력           올인원 패키지 : 업무자동화_VBA   139729  1535    1.10              239   \n",
       "컴퓨터활용능력2급         올인원 패키지 : 업무자동화_VBA    88751  1283    1.45              234   \n",
       "컴퓨터활용능력1급         올인원 패키지 : 업무자동화_VBA    94757  1192    1.26              237   \n",
       "포토샵             ㅍAOP 전체_중복키워드_디자인(삭제)  1021846   157    0.02             1625   \n",
       "-            올인원 패키지 : 프로그래밍 첫걸음 시작하기    88800   599    0.67              352   \n",
       "프리미어프로               AOP 전체_중복키워드_디자인   213033   132    0.06             1574   \n",
       "폰트                      타이포그래피와 편집디자인   478588   474    0.10              396   \n",
       "스케치                  AOP 전체_중복키워드_디자인   200487   133    0.07             1166   \n",
       "포토샵               포토샵 유치원_일러스트레이터 유치원   691814   130    0.02             1052   \n",
       "글씨체                     타이포그래피와 편집디자인   106648   216    0.20              425   \n",
       "한글폰트                    타이포그래피와 편집디자인    82983   206    0.25              308   \n",
       "마블              ㅍAOP 전체_중복키워드_디자인(삭제)   907619   228    0.03              265   \n",
       "바이럴마케팅                         마케팅 전체  3095998   262    0.01              220   \n",
       "\n",
       "           총비용(VAT포함,원)  \n",
       "키워드                      \n",
       "-               2512444  \n",
       "-               2384965  \n",
       "일러스트            1568699  \n",
       "-               1175174  \n",
       "HTML            1145903  \n",
       "파이썬              964876  \n",
       "코딩               879560  \n",
       "C언어              809358  \n",
       "가상화폐             803770  \n",
       "포토샵              753247  \n",
       "블록체인             643478  \n",
       "엑셀               633897  \n",
       "-                393327  \n",
       "포토샵              381359  \n",
       "컴퓨터활용능력          367147  \n",
       "컴퓨터활용능력2급        300058  \n",
       "컴퓨터활용능력1급        282018  \n",
       "포토샵              255475  \n",
       "-                210650  \n",
       "프리미어프로           207702  \n",
       "폰트               187693  \n",
       "스케치              155254  \n",
       "포토샵              136279  \n",
       "글씨체               91806  \n",
       "한글폰트              63492  \n",
       "마블                60533  \n",
       "바이럴마케팅            57563  "
      ]
     },
     "execution_count": 95,
     "metadata": {},
     "output_type": "execute_result"
    }
   ],
   "source": [
    "result"
   ]
  },
  {
   "cell_type": "code",
   "execution_count": 96,
   "metadata": {},
   "outputs": [
    {
     "data": {
      "text/plain": [
       "Index(['-', '-', '일러스트', '-', 'HTML', '파이썬', '코딩', 'C언어', '가상화폐', '포토샵',\n",
       "       '블록체인', '엑셀', '-', '포토샵', '컴퓨터활용능력', '컴퓨터활용능력2급', '컴퓨터활용능력1급', '포토샵',\n",
       "       '-', '프리미어프로', '폰트', '스케치', '포토샵', '글씨체', '한글폰트', '마블', '바이럴마케팅'],\n",
       "      dtype='object', name='키워드')"
      ]
     },
     "execution_count": 96,
     "metadata": {},
     "output_type": "execute_result"
    }
   ],
   "source": [
    "result.index"
   ]
  },
  {
   "cell_type": "markdown",
   "metadata": {},
   "source": [
    "### 저효율키워드 선별\n",
    "\n",
    "* 저효율키워드 : 노출수, 클릭수 상위 5%의 키워드가 아닌데도 불구하고 비용이 많이 쓰이고 있는 키워드\n",
    "    1. 노출수 95백분위수 미만\n",
    "    2. 클릭수 95백분위수 미만\n",
    "    3. 총비용 85백분위수 이상\n",
    "    4. 총비용 95백분위수 미만"
   ]
  },
  {
   "cell_type": "code",
   "execution_count": 97,
   "metadata": {},
   "outputs": [],
   "source": [
    "cost = ad_index['총비용(VAT포함,원)']"
   ]
  },
  {
   "cell_type": "code",
   "execution_count": 99,
   "metadata": {},
   "outputs": [],
   "source": [
    "result = ad_index[(imp < imp.quantile(0.95)) & (clk < clk.quantile(0.95)) & (cost >= cost.quantile(0.85)) & (cost < cost.quantile(0.95))]"
   ]
  },
  {
   "cell_type": "code",
   "execution_count": 100,
   "metadata": {},
   "outputs": [
    {
     "data": {
      "text/plain": [
       "Index(['온라인마케팅교육', '온라인마케팅', '어플제작비용', '부동산경매', '퍼포먼스마케팅', '블록체인', 'C++',\n",
       "       '게임만드는프로그램', '엑셀배우기', '앱만들기', '영상제작', '쇼핑몰제작', '에프터이펙트', '어플리케이션제작',\n",
       "       '강남빌딩매매', '웹디자인', '디지털마케팅', '포토샵강의', '구글애널리틱스자격증', 'PYTHON', '페이스북광고',\n",
       "       '유튜브마케팅', '게임제작', '부동산투자', '마케팅전략', 'PYTHON', '홈페이지만들기', 'B2B사이트',\n",
       "       'JAVASCRIPT', '파이썬강좌', '인스타그램광고', '동영상제작', 'SEO', '쇼핑몰창업', '인터넷쇼핑몰',\n",
       "       '게임프로그래밍학원', '프로그래밍', '서울빌딩매매', '데이터사이언스', '모바일게임제작', '엑셀학원',\n",
       "       '유튜브크리에이터', '엑셀VBA', '영상편집학원', '텐서플로우', '쇼핑몰홈페이지제작', '엑셀교육', '그로스해킹',\n",
       "       '게임개발', '광고대행사', '통계학원', '모바일앱개발', '안드로이드앱만들기', '파이썬기초', '하이브리드앱',\n",
       "       '온라인마케팅', '인디자인', '검색엔진최적화', '엑셀실무', '인터넷쇼핑몰제작', '상가빌딩매매', '퍼포먼스마케팅',\n",
       "       '쇼핑몰', 'UX디자인', '유니티강좌', 'VBA', '코딩이란', 'SNS마케팅', 'GA자격증', '콘텐츠제작',\n",
       "       '구글애널리틱스', 'UI디자인', '1인미디어', '포토샵자격증', '하이브리드앱', '포토샵자격증', '브랜드네이밍',\n",
       "       '리플렛디자인', '데이터사이언티스트', '유니티3D', '자바스크립트', '일러스트레이터강좌', '데이터분석준전문가',\n",
       "       '유튜브편집', '모션그래픽', '리플렛디자인', 'SPRING', '어도비일러스트레이터', 'SNS광고', '쇼핑몰촬영',\n",
       "       '브랜드마케팅', '데이터분석', 'PHP', 'UXUI', 'SQL', 'UI디자인', '웹크롤링'],\n",
       "      dtype='object', name='키워드')"
      ]
     },
     "execution_count": 100,
     "metadata": {},
     "output_type": "execute_result"
    }
   ],
   "source": [
    "result.index"
   ]
  },
  {
   "cell_type": "markdown",
   "metadata": {},
   "source": [
    "## 광고그룹분석"
   ]
  },
  {
   "cell_type": "markdown",
   "metadata": {},
   "source": [
    "### 데이터 탐색 및 전처리"
   ]
  },
  {
   "cell_type": "markdown",
   "metadata": {},
   "source": [
    "groupby('칼럼명') - 전달된 열을 기준으로 전체 데이터를 분류"
   ]
  },
  {
   "cell_type": "code",
   "execution_count": 102,
   "metadata": {},
   "outputs": [
    {
     "data": {
      "text/plain": [
       "<pandas.core.groupby.generic.DataFrameGroupBy object at 0x000002A65E499580>"
      ]
     },
     "execution_count": 102,
     "metadata": {},
     "output_type": "execute_result"
    }
   ],
   "source": [
    "grouped = ad.groupby('광고그룹')\n",
    "grouped"
   ]
  },
  {
   "cell_type": "code",
   "execution_count": 103,
   "metadata": {},
   "outputs": [
    {
     "data": {
      "text/html": [
       "<div>\n",
       "<style scoped>\n",
       "    .dataframe tbody tr th:only-of-type {\n",
       "        vertical-align: middle;\n",
       "    }\n",
       "\n",
       "    .dataframe tbody tr th {\n",
       "        vertical-align: top;\n",
       "    }\n",
       "\n",
       "    .dataframe thead th {\n",
       "        text-align: right;\n",
       "    }\n",
       "</style>\n",
       "<table border=\"1\" class=\"dataframe\">\n",
       "  <thead>\n",
       "    <tr style=\"text-align: right;\">\n",
       "      <th></th>\n",
       "      <th>키워드</th>\n",
       "      <th>노출수</th>\n",
       "      <th>클릭수</th>\n",
       "      <th>클릭률(%)</th>\n",
       "      <th>평균클릭비용(VAT포함,원)</th>\n",
       "      <th>총비용(VAT포함,원)</th>\n",
       "    </tr>\n",
       "    <tr>\n",
       "      <th>광고그룹</th>\n",
       "      <th></th>\n",
       "      <th></th>\n",
       "      <th></th>\n",
       "      <th></th>\n",
       "      <th></th>\n",
       "      <th></th>\n",
       "    </tr>\n",
       "  </thead>\n",
       "  <tbody>\n",
       "    <tr>\n",
       "      <th>#000_마케팅 전체_main</th>\n",
       "      <td>48</td>\n",
       "      <td>48</td>\n",
       "      <td>48</td>\n",
       "      <td>48</td>\n",
       "      <td>48</td>\n",
       "      <td>48</td>\n",
       "    </tr>\n",
       "    <tr>\n",
       "      <th>001.BASIC DESIGN</th>\n",
       "      <td>9</td>\n",
       "      <td>9</td>\n",
       "      <td>9</td>\n",
       "      <td>9</td>\n",
       "      <td>9</td>\n",
       "      <td>9</td>\n",
       "    </tr>\n",
       "    <tr>\n",
       "      <th>001.데이터분석/ 통계</th>\n",
       "      <td>10</td>\n",
       "      <td>10</td>\n",
       "      <td>10</td>\n",
       "      <td>10</td>\n",
       "      <td>10</td>\n",
       "      <td>10</td>\n",
       "    </tr>\n",
       "    <tr>\n",
       "      <th>002.R</th>\n",
       "      <td>9</td>\n",
       "      <td>9</td>\n",
       "      <td>9</td>\n",
       "      <td>9</td>\n",
       "      <td>9</td>\n",
       "      <td>9</td>\n",
       "    </tr>\n",
       "    <tr>\n",
       "      <th>002.UX/UI</th>\n",
       "      <td>5</td>\n",
       "      <td>5</td>\n",
       "      <td>5</td>\n",
       "      <td>5</td>\n",
       "      <td>5</td>\n",
       "      <td>5</td>\n",
       "    </tr>\n",
       "    <tr>\n",
       "      <th>...</th>\n",
       "      <td>...</td>\n",
       "      <td>...</td>\n",
       "      <td>...</td>\n",
       "      <td>...</td>\n",
       "      <td>...</td>\n",
       "      <td>...</td>\n",
       "    </tr>\n",
       "    <tr>\n",
       "      <th>포토샵 유치원_일러스트레이터 유치원</th>\n",
       "      <td>13</td>\n",
       "      <td>13</td>\n",
       "      <td>13</td>\n",
       "      <td>13</td>\n",
       "      <td>13</td>\n",
       "      <td>13</td>\n",
       "    </tr>\n",
       "    <tr>\n",
       "      <th>프로그래밍 유치원</th>\n",
       "      <td>8</td>\n",
       "      <td>8</td>\n",
       "      <td>8</td>\n",
       "      <td>8</td>\n",
       "      <td>8</td>\n",
       "      <td>8</td>\n",
       "    </tr>\n",
       "    <tr>\n",
       "      <th>프로그래밍 전체</th>\n",
       "      <td>12</td>\n",
       "      <td>12</td>\n",
       "      <td>12</td>\n",
       "      <td>12</td>\n",
       "      <td>12</td>\n",
       "      <td>12</td>\n",
       "    </tr>\n",
       "    <tr>\n",
       "      <th>프로그래밍 전체_파워컨텐츠_블록체인(삭제)</th>\n",
       "      <td>3</td>\n",
       "      <td>3</td>\n",
       "      <td>3</td>\n",
       "      <td>3</td>\n",
       "      <td>3</td>\n",
       "      <td>3</td>\n",
       "    </tr>\n",
       "    <tr>\n",
       "      <th>프론트엔드 개발 스쿨 12기_기존 키워드</th>\n",
       "      <td>1</td>\n",
       "      <td>1</td>\n",
       "      <td>1</td>\n",
       "      <td>1</td>\n",
       "      <td>1</td>\n",
       "      <td>1</td>\n",
       "    </tr>\n",
       "  </tbody>\n",
       "</table>\n",
       "<p>186 rows × 6 columns</p>\n",
       "</div>"
      ],
      "text/plain": [
       "                         키워드  노출수  클릭수  클릭률(%)  평균클릭비용(VAT포함,원)  총비용(VAT포함,원)\n",
       "광고그룹                                                                         \n",
       "#000_마케팅 전체_main          48   48   48      48               48            48\n",
       "001.BASIC DESIGN           9    9    9       9                9             9\n",
       "001.데이터분석/ 통계             10   10   10      10               10            10\n",
       "002.R                      9    9    9       9                9             9\n",
       "002.UX/UI                  5    5    5       5                5             5\n",
       "...                      ...  ...  ...     ...              ...           ...\n",
       "포토샵 유치원_일러스트레이터 유치원       13   13   13      13               13            13\n",
       "프로그래밍 유치원                  8    8    8       8                8             8\n",
       "프로그래밍 전체                  12   12   12      12               12            12\n",
       "프로그래밍 전체_파워컨텐츠_블록체인(삭제)    3    3    3       3                3             3\n",
       "프론트엔드 개발 스쿨 12기_기존 키워드     1    1    1       1                1             1\n",
       "\n",
       "[186 rows x 6 columns]"
      ]
     },
     "execution_count": 103,
     "metadata": {},
     "output_type": "execute_result"
    }
   ],
   "source": [
    "grouped.count()   # 각 광고그룹 데이터의 개수"
   ]
  },
  {
   "cell_type": "code",
   "execution_count": 104,
   "metadata": {},
   "outputs": [
    {
     "data": {
      "text/html": [
       "<div>\n",
       "<style scoped>\n",
       "    .dataframe tbody tr th:only-of-type {\n",
       "        vertical-align: middle;\n",
       "    }\n",
       "\n",
       "    .dataframe tbody tr th {\n",
       "        vertical-align: top;\n",
       "    }\n",
       "\n",
       "    .dataframe thead th {\n",
       "        text-align: right;\n",
       "    }\n",
       "</style>\n",
       "<table border=\"1\" class=\"dataframe\">\n",
       "  <thead>\n",
       "    <tr style=\"text-align: right;\">\n",
       "      <th></th>\n",
       "      <th>노출수</th>\n",
       "      <th>클릭수</th>\n",
       "      <th>클릭률(%)</th>\n",
       "      <th>평균클릭비용(VAT포함,원)</th>\n",
       "      <th>총비용(VAT포함,원)</th>\n",
       "    </tr>\n",
       "    <tr>\n",
       "      <th>광고그룹</th>\n",
       "      <th></th>\n",
       "      <th></th>\n",
       "      <th></th>\n",
       "      <th></th>\n",
       "      <th></th>\n",
       "    </tr>\n",
       "  </thead>\n",
       "  <tbody>\n",
       "    <tr>\n",
       "      <th>#000_마케팅 전체_main</th>\n",
       "      <td>14780.15</td>\n",
       "      <td>8.35</td>\n",
       "      <td>0.18</td>\n",
       "      <td>625.06</td>\n",
       "      <td>7243.96</td>\n",
       "    </tr>\n",
       "    <tr>\n",
       "      <th>001.BASIC DESIGN</th>\n",
       "      <td>5738.56</td>\n",
       "      <td>6.67</td>\n",
       "      <td>0.23</td>\n",
       "      <td>298.67</td>\n",
       "      <td>2427.33</td>\n",
       "    </tr>\n",
       "    <tr>\n",
       "      <th>001.데이터분석/ 통계</th>\n",
       "      <td>3715.00</td>\n",
       "      <td>20.20</td>\n",
       "      <td>0.89</td>\n",
       "      <td>1021.70</td>\n",
       "      <td>19575.60</td>\n",
       "    </tr>\n",
       "    <tr>\n",
       "      <th>002.R</th>\n",
       "      <td>13413.78</td>\n",
       "      <td>8.67</td>\n",
       "      <td>0.11</td>\n",
       "      <td>360.00</td>\n",
       "      <td>4796.00</td>\n",
       "    </tr>\n",
       "    <tr>\n",
       "      <th>002.UX/UI</th>\n",
       "      <td>3090.80</td>\n",
       "      <td>4.00</td>\n",
       "      <td>0.08</td>\n",
       "      <td>70.00</td>\n",
       "      <td>550.00</td>\n",
       "    </tr>\n",
       "    <tr>\n",
       "      <th>...</th>\n",
       "      <td>...</td>\n",
       "      <td>...</td>\n",
       "      <td>...</td>\n",
       "      <td>...</td>\n",
       "      <td>...</td>\n",
       "    </tr>\n",
       "    <tr>\n",
       "      <th>포토샵 유치원_일러스트레이터 유치원</th>\n",
       "      <td>72092.69</td>\n",
       "      <td>16.77</td>\n",
       "      <td>0.05</td>\n",
       "      <td>648.38</td>\n",
       "      <td>15781.62</td>\n",
       "    </tr>\n",
       "    <tr>\n",
       "      <th>프로그래밍 유치원</th>\n",
       "      <td>5921.62</td>\n",
       "      <td>7.75</td>\n",
       "      <td>0.23</td>\n",
       "      <td>2032.50</td>\n",
       "      <td>23617.00</td>\n",
       "    </tr>\n",
       "    <tr>\n",
       "      <th>프로그래밍 전체</th>\n",
       "      <td>90375.00</td>\n",
       "      <td>9.17</td>\n",
       "      <td>0.02</td>\n",
       "      <td>123.92</td>\n",
       "      <td>1626.17</td>\n",
       "    </tr>\n",
       "    <tr>\n",
       "      <th>프로그래밍 전체_파워컨텐츠_블록체인(삭제)</th>\n",
       "      <td>65353.33</td>\n",
       "      <td>2344.33</td>\n",
       "      <td>3.64</td>\n",
       "      <td>192.67</td>\n",
       "      <td>431159.67</td>\n",
       "    </tr>\n",
       "    <tr>\n",
       "      <th>프론트엔드 개발 스쿨 12기_기존 키워드</th>\n",
       "      <td>2015.00</td>\n",
       "      <td>2.00</td>\n",
       "      <td>0.10</td>\n",
       "      <td>64.00</td>\n",
       "      <td>154.00</td>\n",
       "    </tr>\n",
       "  </tbody>\n",
       "</table>\n",
       "<p>186 rows × 5 columns</p>\n",
       "</div>"
      ],
      "text/plain": [
       "                             노출수     클릭수  클릭률(%)  평균클릭비용(VAT포함,원)  \\\n",
       "광고그룹                                                                \n",
       "#000_마케팅 전체_main        14780.15    8.35    0.18           625.06   \n",
       "001.BASIC DESIGN         5738.56    6.67    0.23           298.67   \n",
       "001.데이터분석/ 통계            3715.00   20.20    0.89          1021.70   \n",
       "002.R                   13413.78    8.67    0.11           360.00   \n",
       "002.UX/UI                3090.80    4.00    0.08            70.00   \n",
       "...                          ...     ...     ...              ...   \n",
       "포토샵 유치원_일러스트레이터 유치원     72092.69   16.77    0.05           648.38   \n",
       "프로그래밍 유치원                5921.62    7.75    0.23          2032.50   \n",
       "프로그래밍 전체                90375.00    9.17    0.02           123.92   \n",
       "프로그래밍 전체_파워컨텐츠_블록체인(삭제) 65353.33 2344.33    3.64           192.67   \n",
       "프론트엔드 개발 스쿨 12기_기존 키워드   2015.00    2.00    0.10            64.00   \n",
       "\n",
       "                         총비용(VAT포함,원)  \n",
       "광고그룹                                   \n",
       "#000_마케팅 전체_main              7243.96  \n",
       "001.BASIC DESIGN              2427.33  \n",
       "001.데이터분석/ 통계                19575.60  \n",
       "002.R                         4796.00  \n",
       "002.UX/UI                      550.00  \n",
       "...                               ...  \n",
       "포토샵 유치원_일러스트레이터 유치원          15781.62  \n",
       "프로그래밍 유치원                    23617.00  \n",
       "프로그래밍 전체                      1626.17  \n",
       "프로그래밍 전체_파워컨텐츠_블록체인(삭제)     431159.67  \n",
       "프론트엔드 개발 스쿨 12기_기존 키워드         154.00  \n",
       "\n",
       "[186 rows x 5 columns]"
      ]
     },
     "execution_count": 104,
     "metadata": {},
     "output_type": "execute_result"
    }
   ],
   "source": [
    "grouped.mean()   # 각 광고그룹 데이터의 평균"
   ]
  },
  {
   "cell_type": "code",
   "execution_count": 105,
   "metadata": {},
   "outputs": [
    {
     "data": {
      "text/html": [
       "<div>\n",
       "<style scoped>\n",
       "    .dataframe tbody tr th:only-of-type {\n",
       "        vertical-align: middle;\n",
       "    }\n",
       "\n",
       "    .dataframe tbody tr th {\n",
       "        vertical-align: top;\n",
       "    }\n",
       "\n",
       "    .dataframe thead th {\n",
       "        text-align: right;\n",
       "    }\n",
       "</style>\n",
       "<table border=\"1\" class=\"dataframe\">\n",
       "  <thead>\n",
       "    <tr style=\"text-align: right;\">\n",
       "      <th></th>\n",
       "      <th>노출수</th>\n",
       "      <th>클릭수</th>\n",
       "      <th>클릭률(%)</th>\n",
       "      <th>평균클릭비용(VAT포함,원)</th>\n",
       "      <th>총비용(VAT포함,원)</th>\n",
       "    </tr>\n",
       "    <tr>\n",
       "      <th>광고그룹</th>\n",
       "      <th></th>\n",
       "      <th></th>\n",
       "      <th></th>\n",
       "      <th></th>\n",
       "      <th></th>\n",
       "    </tr>\n",
       "  </thead>\n",
       "  <tbody>\n",
       "    <tr>\n",
       "      <th>#000_마케팅 전체_main</th>\n",
       "      <td>2765.00</td>\n",
       "      <td>4.00</td>\n",
       "      <td>0.05</td>\n",
       "      <td>766.00</td>\n",
       "      <td>2458.50</td>\n",
       "    </tr>\n",
       "    <tr>\n",
       "      <th>001.BASIC DESIGN</th>\n",
       "      <td>5524.00</td>\n",
       "      <td>2.00</td>\n",
       "      <td>0.03</td>\n",
       "      <td>358.00</td>\n",
       "      <td>1023.00</td>\n",
       "    </tr>\n",
       "    <tr>\n",
       "      <th>001.데이터분석/ 통계</th>\n",
       "      <td>1813.00</td>\n",
       "      <td>13.50</td>\n",
       "      <td>0.57</td>\n",
       "      <td>1097.00</td>\n",
       "      <td>13464.00</td>\n",
       "    </tr>\n",
       "    <tr>\n",
       "      <th>002.R</th>\n",
       "      <td>5184.00</td>\n",
       "      <td>4.00</td>\n",
       "      <td>0.03</td>\n",
       "      <td>119.00</td>\n",
       "      <td>1287.00</td>\n",
       "    </tr>\n",
       "    <tr>\n",
       "      <th>002.UX/UI</th>\n",
       "      <td>2649.00</td>\n",
       "      <td>1.00</td>\n",
       "      <td>0.08</td>\n",
       "      <td>73.00</td>\n",
       "      <td>88.00</td>\n",
       "    </tr>\n",
       "    <tr>\n",
       "      <th>...</th>\n",
       "      <td>...</td>\n",
       "      <td>...</td>\n",
       "      <td>...</td>\n",
       "      <td>...</td>\n",
       "      <td>...</td>\n",
       "    </tr>\n",
       "    <tr>\n",
       "      <th>포토샵 유치원_일러스트레이터 유치원</th>\n",
       "      <td>5763.00</td>\n",
       "      <td>4.00</td>\n",
       "      <td>0.02</td>\n",
       "      <td>853.00</td>\n",
       "      <td>2706.00</td>\n",
       "    </tr>\n",
       "    <tr>\n",
       "      <th>프로그래밍 유치원</th>\n",
       "      <td>3748.00</td>\n",
       "      <td>3.00</td>\n",
       "      <td>0.11</td>\n",
       "      <td>1764.00</td>\n",
       "      <td>8002.50</td>\n",
       "    </tr>\n",
       "    <tr>\n",
       "      <th>프로그래밍 전체</th>\n",
       "      <td>3455.50</td>\n",
       "      <td>1.00</td>\n",
       "      <td>0.01</td>\n",
       "      <td>130.50</td>\n",
       "      <td>225.50</td>\n",
       "    </tr>\n",
       "    <tr>\n",
       "      <th>프로그래밍 전체_파워컨텐츠_블록체인(삭제)</th>\n",
       "      <td>64981.00</td>\n",
       "      <td>2798.00</td>\n",
       "      <td>3.52</td>\n",
       "      <td>240.00</td>\n",
       "      <td>334961.00</td>\n",
       "    </tr>\n",
       "    <tr>\n",
       "      <th>프론트엔드 개발 스쿨 12기_기존 키워드</th>\n",
       "      <td>2015.00</td>\n",
       "      <td>2.00</td>\n",
       "      <td>0.10</td>\n",
       "      <td>64.00</td>\n",
       "      <td>154.00</td>\n",
       "    </tr>\n",
       "  </tbody>\n",
       "</table>\n",
       "<p>186 rows × 5 columns</p>\n",
       "</div>"
      ],
      "text/plain": [
       "                             노출수     클릭수  클릭률(%)  평균클릭비용(VAT포함,원)  \\\n",
       "광고그룹                                                                \n",
       "#000_마케팅 전체_main         2765.00    4.00    0.05           766.00   \n",
       "001.BASIC DESIGN         5524.00    2.00    0.03           358.00   \n",
       "001.데이터분석/ 통계            1813.00   13.50    0.57          1097.00   \n",
       "002.R                    5184.00    4.00    0.03           119.00   \n",
       "002.UX/UI                2649.00    1.00    0.08            73.00   \n",
       "...                          ...     ...     ...              ...   \n",
       "포토샵 유치원_일러스트레이터 유치원      5763.00    4.00    0.02           853.00   \n",
       "프로그래밍 유치원                3748.00    3.00    0.11          1764.00   \n",
       "프로그래밍 전체                 3455.50    1.00    0.01           130.50   \n",
       "프로그래밍 전체_파워컨텐츠_블록체인(삭제) 64981.00 2798.00    3.52           240.00   \n",
       "프론트엔드 개발 스쿨 12기_기존 키워드   2015.00    2.00    0.10            64.00   \n",
       "\n",
       "                         총비용(VAT포함,원)  \n",
       "광고그룹                                   \n",
       "#000_마케팅 전체_main              2458.50  \n",
       "001.BASIC DESIGN              1023.00  \n",
       "001.데이터분석/ 통계                13464.00  \n",
       "002.R                         1287.00  \n",
       "002.UX/UI                       88.00  \n",
       "...                               ...  \n",
       "포토샵 유치원_일러스트레이터 유치원           2706.00  \n",
       "프로그래밍 유치원                     8002.50  \n",
       "프로그래밍 전체                       225.50  \n",
       "프로그래밍 전체_파워컨텐츠_블록체인(삭제)     334961.00  \n",
       "프론트엔드 개발 스쿨 12기_기존 키워드         154.00  \n",
       "\n",
       "[186 rows x 5 columns]"
      ]
     },
     "execution_count": 105,
     "metadata": {},
     "output_type": "execute_result"
    }
   ],
   "source": [
    "grouped.median()   # 각 광고그룹의 중앙값"
   ]
  },
  {
   "cell_type": "code",
   "execution_count": 106,
   "metadata": {},
   "outputs": [
    {
     "data": {
      "text/html": [
       "<div>\n",
       "<style scoped>\n",
       "    .dataframe tbody tr th:only-of-type {\n",
       "        vertical-align: middle;\n",
       "    }\n",
       "\n",
       "    .dataframe tbody tr th {\n",
       "        vertical-align: top;\n",
       "    }\n",
       "\n",
       "    .dataframe thead th {\n",
       "        text-align: right;\n",
       "    }\n",
       "</style>\n",
       "<table border=\"1\" class=\"dataframe\">\n",
       "  <thead>\n",
       "    <tr style=\"text-align: right;\">\n",
       "      <th></th>\n",
       "      <th>노출수</th>\n",
       "      <th>클릭수</th>\n",
       "      <th>클릭률(%)</th>\n",
       "      <th>평균클릭비용(VAT포함,원)</th>\n",
       "      <th>총비용(VAT포함,원)</th>\n",
       "    </tr>\n",
       "    <tr>\n",
       "      <th>광고그룹</th>\n",
       "      <th></th>\n",
       "      <th></th>\n",
       "      <th></th>\n",
       "      <th></th>\n",
       "      <th></th>\n",
       "    </tr>\n",
       "  </thead>\n",
       "  <tbody>\n",
       "    <tr>\n",
       "      <th>#000_마케팅 전체_main</th>\n",
       "      <td>43495.11</td>\n",
       "      <td>17.70</td>\n",
       "      <td>0.32</td>\n",
       "      <td>472.81</td>\n",
       "      <td>15854.71</td>\n",
       "    </tr>\n",
       "    <tr>\n",
       "      <th>001.BASIC DESIGN</th>\n",
       "      <td>4182.62</td>\n",
       "      <td>9.10</td>\n",
       "      <td>0.46</td>\n",
       "      <td>176.19</td>\n",
       "      <td>3220.04</td>\n",
       "    </tr>\n",
       "    <tr>\n",
       "      <th>001.데이터분석/ 통계</th>\n",
       "      <td>4109.84</td>\n",
       "      <td>18.30</td>\n",
       "      <td>0.82</td>\n",
       "      <td>269.78</td>\n",
       "      <td>19127.40</td>\n",
       "    </tr>\n",
       "    <tr>\n",
       "      <th>002.R</th>\n",
       "      <td>19333.63</td>\n",
       "      <td>14.76</td>\n",
       "      <td>0.17</td>\n",
       "      <td>371.79</td>\n",
       "      <td>10077.59</td>\n",
       "    </tr>\n",
       "    <tr>\n",
       "      <th>002.UX/UI</th>\n",
       "      <td>1996.65</td>\n",
       "      <td>7.31</td>\n",
       "      <td>0.11</td>\n",
       "      <td>69.27</td>\n",
       "      <td>1005.28</td>\n",
       "    </tr>\n",
       "    <tr>\n",
       "      <th>...</th>\n",
       "      <td>...</td>\n",
       "      <td>...</td>\n",
       "      <td>...</td>\n",
       "      <td>...</td>\n",
       "      <td>...</td>\n",
       "    </tr>\n",
       "    <tr>\n",
       "      <th>포토샵 유치원_일러스트레이터 유치원</th>\n",
       "      <td>188247.58</td>\n",
       "      <td>35.38</td>\n",
       "      <td>0.07</td>\n",
       "      <td>470.90</td>\n",
       "      <td>37543.64</td>\n",
       "    </tr>\n",
       "    <tr>\n",
       "      <th>프로그래밍 유치원</th>\n",
       "      <td>6642.34</td>\n",
       "      <td>9.87</td>\n",
       "      <td>0.26</td>\n",
       "      <td>1649.54</td>\n",
       "      <td>37088.92</td>\n",
       "    </tr>\n",
       "    <tr>\n",
       "      <th>프로그래밍 전체</th>\n",
       "      <td>200385.15</td>\n",
       "      <td>17.26</td>\n",
       "      <td>0.03</td>\n",
       "      <td>120.05</td>\n",
       "      <td>2801.70</td>\n",
       "    </tr>\n",
       "    <tr>\n",
       "      <th>프로그래밍 전체_파워컨텐츠_블록체인(삭제)</th>\n",
       "      <td>25831.51</td>\n",
       "      <td>820.66</td>\n",
       "      <td>0.61</td>\n",
       "      <td>121.15</td>\n",
       "      <td>335034.37</td>\n",
       "    </tr>\n",
       "    <tr>\n",
       "      <th>프론트엔드 개발 스쿨 12기_기존 키워드</th>\n",
       "      <td>nan</td>\n",
       "      <td>nan</td>\n",
       "      <td>nan</td>\n",
       "      <td>nan</td>\n",
       "      <td>nan</td>\n",
       "    </tr>\n",
       "  </tbody>\n",
       "</table>\n",
       "<p>186 rows × 5 columns</p>\n",
       "</div>"
      ],
      "text/plain": [
       "                              노출수    클릭수  클릭률(%)  평균클릭비용(VAT포함,원)  \\\n",
       "광고그룹                                                                \n",
       "#000_마케팅 전체_main         43495.11  17.70    0.32           472.81   \n",
       "001.BASIC DESIGN          4182.62   9.10    0.46           176.19   \n",
       "001.데이터분석/ 통계             4109.84  18.30    0.82           269.78   \n",
       "002.R                    19333.63  14.76    0.17           371.79   \n",
       "002.UX/UI                 1996.65   7.31    0.11            69.27   \n",
       "...                           ...    ...     ...              ...   \n",
       "포토샵 유치원_일러스트레이터 유치원     188247.58  35.38    0.07           470.90   \n",
       "프로그래밍 유치원                 6642.34   9.87    0.26          1649.54   \n",
       "프로그래밍 전체                200385.15  17.26    0.03           120.05   \n",
       "프로그래밍 전체_파워컨텐츠_블록체인(삭제)  25831.51 820.66    0.61           121.15   \n",
       "프론트엔드 개발 스쿨 12기_기존 키워드        nan    nan     nan              nan   \n",
       "\n",
       "                         총비용(VAT포함,원)  \n",
       "광고그룹                                   \n",
       "#000_마케팅 전체_main             15854.71  \n",
       "001.BASIC DESIGN              3220.04  \n",
       "001.데이터분석/ 통계                19127.40  \n",
       "002.R                        10077.59  \n",
       "002.UX/UI                     1005.28  \n",
       "...                               ...  \n",
       "포토샵 유치원_일러스트레이터 유치원          37543.64  \n",
       "프로그래밍 유치원                    37088.92  \n",
       "프로그래밍 전체                      2801.70  \n",
       "프로그래밍 전체_파워컨텐츠_블록체인(삭제)     335034.37  \n",
       "프론트엔드 개발 스쿨 12기_기존 키워드            nan  \n",
       "\n",
       "[186 rows x 5 columns]"
      ]
     },
     "execution_count": 106,
     "metadata": {},
     "output_type": "execute_result"
    }
   ],
   "source": [
    "grouped.std()   # 각 광고그룹의 표준편차"
   ]
  },
  {
   "cell_type": "code",
   "execution_count": 107,
   "metadata": {},
   "outputs": [
    {
     "data": {
      "text/html": [
       "<div>\n",
       "<style scoped>\n",
       "    .dataframe tbody tr th:only-of-type {\n",
       "        vertical-align: middle;\n",
       "    }\n",
       "\n",
       "    .dataframe tbody tr th {\n",
       "        vertical-align: top;\n",
       "    }\n",
       "\n",
       "    .dataframe thead th {\n",
       "        text-align: right;\n",
       "    }\n",
       "</style>\n",
       "<table border=\"1\" class=\"dataframe\">\n",
       "  <thead>\n",
       "    <tr style=\"text-align: right;\">\n",
       "      <th></th>\n",
       "      <th>노출수</th>\n",
       "      <th>클릭수</th>\n",
       "      <th>클릭률(%)</th>\n",
       "      <th>평균클릭비용(VAT포함,원)</th>\n",
       "      <th>총비용(VAT포함,원)</th>\n",
       "    </tr>\n",
       "    <tr>\n",
       "      <th>광고그룹</th>\n",
       "      <th></th>\n",
       "      <th></th>\n",
       "      <th></th>\n",
       "      <th></th>\n",
       "      <th></th>\n",
       "    </tr>\n",
       "  </thead>\n",
       "  <tbody>\n",
       "    <tr>\n",
       "      <th>#000_마케팅 전체_main</th>\n",
       "      <td>1891824593.19</td>\n",
       "      <td>313.38</td>\n",
       "      <td>0.10</td>\n",
       "      <td>223547.29</td>\n",
       "      <td>251371923.49</td>\n",
       "    </tr>\n",
       "    <tr>\n",
       "      <th>001.BASIC DESIGN</th>\n",
       "      <td>17494344.53</td>\n",
       "      <td>82.75</td>\n",
       "      <td>0.21</td>\n",
       "      <td>31044.00</td>\n",
       "      <td>10368671.50</td>\n",
       "    </tr>\n",
       "    <tr>\n",
       "      <th>001.데이터분석/ 통계</th>\n",
       "      <td>16890757.78</td>\n",
       "      <td>335.07</td>\n",
       "      <td>0.68</td>\n",
       "      <td>72783.79</td>\n",
       "      <td>365857245.60</td>\n",
       "    </tr>\n",
       "    <tr>\n",
       "      <th>002.R</th>\n",
       "      <td>373789206.44</td>\n",
       "      <td>217.75</td>\n",
       "      <td>0.03</td>\n",
       "      <td>138226.25</td>\n",
       "      <td>101557901.50</td>\n",
       "    </tr>\n",
       "    <tr>\n",
       "      <th>002.UX/UI</th>\n",
       "      <td>3986602.70</td>\n",
       "      <td>53.50</td>\n",
       "      <td>0.01</td>\n",
       "      <td>4798.50</td>\n",
       "      <td>1010592.00</td>\n",
       "    </tr>\n",
       "    <tr>\n",
       "      <th>...</th>\n",
       "      <td>...</td>\n",
       "      <td>...</td>\n",
       "      <td>...</td>\n",
       "      <td>...</td>\n",
       "      <td>...</td>\n",
       "    </tr>\n",
       "    <tr>\n",
       "      <th>포토샵 유치원_일러스트레이터 유치원</th>\n",
       "      <td>35437152679.06</td>\n",
       "      <td>1251.86</td>\n",
       "      <td>0.00</td>\n",
       "      <td>221749.26</td>\n",
       "      <td>1409525055.09</td>\n",
       "    </tr>\n",
       "    <tr>\n",
       "      <th>프로그래밍 유치원</th>\n",
       "      <td>44120700.55</td>\n",
       "      <td>97.36</td>\n",
       "      <td>0.07</td>\n",
       "      <td>2720995.43</td>\n",
       "      <td>1375588223.43</td>\n",
       "    </tr>\n",
       "    <tr>\n",
       "      <th>프로그래밍 전체</th>\n",
       "      <td>40154209477.09</td>\n",
       "      <td>297.79</td>\n",
       "      <td>0.00</td>\n",
       "      <td>14410.81</td>\n",
       "      <td>7849530.33</td>\n",
       "    </tr>\n",
       "    <tr>\n",
       "      <th>프로그래밍 전체_파워컨텐츠_블록체인(삭제)</th>\n",
       "      <td>667267044.33</td>\n",
       "      <td>673480.33</td>\n",
       "      <td>0.37</td>\n",
       "      <td>14676.33</td>\n",
       "      <td>112248026722.33</td>\n",
       "    </tr>\n",
       "    <tr>\n",
       "      <th>프론트엔드 개발 스쿨 12기_기존 키워드</th>\n",
       "      <td>nan</td>\n",
       "      <td>nan</td>\n",
       "      <td>nan</td>\n",
       "      <td>nan</td>\n",
       "      <td>nan</td>\n",
       "    </tr>\n",
       "  </tbody>\n",
       "</table>\n",
       "<p>186 rows × 5 columns</p>\n",
       "</div>"
      ],
      "text/plain": [
       "                                   노출수       클릭수  클릭률(%)  평균클릭비용(VAT포함,원)  \\\n",
       "광고그룹                                                                        \n",
       "#000_마케팅 전체_main         1891824593.19    313.38    0.10        223547.29   \n",
       "001.BASIC DESIGN           17494344.53     82.75    0.21         31044.00   \n",
       "001.데이터분석/ 통계              16890757.78    335.07    0.68         72783.79   \n",
       "002.R                     373789206.44    217.75    0.03        138226.25   \n",
       "002.UX/UI                   3986602.70     53.50    0.01          4798.50   \n",
       "...                                ...       ...     ...              ...   \n",
       "포토샵 유치원_일러스트레이터 유치원     35437152679.06   1251.86    0.00        221749.26   \n",
       "프로그래밍 유치원                  44120700.55     97.36    0.07       2720995.43   \n",
       "프로그래밍 전체                40154209477.09    297.79    0.00         14410.81   \n",
       "프로그래밍 전체_파워컨텐츠_블록체인(삭제)   667267044.33 673480.33    0.37         14676.33   \n",
       "프론트엔드 개발 스쿨 12기_기존 키워드             nan       nan     nan              nan   \n",
       "\n",
       "                           총비용(VAT포함,원)  \n",
       "광고그룹                                     \n",
       "#000_마케팅 전체_main           251371923.49  \n",
       "001.BASIC DESIGN            10368671.50  \n",
       "001.데이터분석/ 통계              365857245.60  \n",
       "002.R                      101557901.50  \n",
       "002.UX/UI                    1010592.00  \n",
       "...                                 ...  \n",
       "포토샵 유치원_일러스트레이터 유치원       1409525055.09  \n",
       "프로그래밍 유치원                 1375588223.43  \n",
       "프로그래밍 전체                     7849530.33  \n",
       "프로그래밍 전체_파워컨텐츠_블록체인(삭제) 112248026722.33  \n",
       "프론트엔드 개발 스쿨 12기_기존 키워드              nan  \n",
       "\n",
       "[186 rows x 5 columns]"
      ]
     },
     "execution_count": 107,
     "metadata": {},
     "output_type": "execute_result"
    }
   ],
   "source": [
    "grouped.var()   # 각 광고그룹의 분산"
   ]
  },
  {
   "cell_type": "markdown",
   "metadata": {},
   "source": [
    "#### 광고그룹 기준 데이터 전처리"
   ]
  },
  {
   "cell_type": "code",
   "execution_count": 109,
   "metadata": {},
   "outputs": [
    {
     "data": {
      "text/html": [
       "<div>\n",
       "<style scoped>\n",
       "    .dataframe tbody tr th:only-of-type {\n",
       "        vertical-align: middle;\n",
       "    }\n",
       "\n",
       "    .dataframe tbody tr th {\n",
       "        vertical-align: top;\n",
       "    }\n",
       "\n",
       "    .dataframe thead th {\n",
       "        text-align: right;\n",
       "    }\n",
       "</style>\n",
       "<table border=\"1\" class=\"dataframe\">\n",
       "  <thead>\n",
       "    <tr style=\"text-align: right;\">\n",
       "      <th></th>\n",
       "      <th>노출수</th>\n",
       "      <th>클릭수</th>\n",
       "      <th>클릭률(%)</th>\n",
       "      <th>평균클릭비용(VAT포함,원)</th>\n",
       "      <th>총비용(VAT포함,원)</th>\n",
       "    </tr>\n",
       "    <tr>\n",
       "      <th>광고그룹</th>\n",
       "      <th></th>\n",
       "      <th></th>\n",
       "      <th></th>\n",
       "      <th></th>\n",
       "      <th></th>\n",
       "    </tr>\n",
       "  </thead>\n",
       "  <tbody>\n",
       "    <tr>\n",
       "      <th>#000_마케팅 전체_main</th>\n",
       "      <td>709447</td>\n",
       "      <td>401</td>\n",
       "      <td>8.83</td>\n",
       "      <td>30003</td>\n",
       "      <td>347710</td>\n",
       "    </tr>\n",
       "    <tr>\n",
       "      <th>001.BASIC DESIGN</th>\n",
       "      <td>51647</td>\n",
       "      <td>60</td>\n",
       "      <td>2.04</td>\n",
       "      <td>2688</td>\n",
       "      <td>21846</td>\n",
       "    </tr>\n",
       "    <tr>\n",
       "      <th>001.데이터분석/ 통계</th>\n",
       "      <td>37150</td>\n",
       "      <td>202</td>\n",
       "      <td>8.89</td>\n",
       "      <td>10217</td>\n",
       "      <td>195756</td>\n",
       "    </tr>\n",
       "    <tr>\n",
       "      <th>002.R</th>\n",
       "      <td>120724</td>\n",
       "      <td>78</td>\n",
       "      <td>1.03</td>\n",
       "      <td>3240</td>\n",
       "      <td>43164</td>\n",
       "    </tr>\n",
       "    <tr>\n",
       "      <th>002.UX/UI</th>\n",
       "      <td>15454</td>\n",
       "      <td>20</td>\n",
       "      <td>0.42</td>\n",
       "      <td>350</td>\n",
       "      <td>2750</td>\n",
       "    </tr>\n",
       "    <tr>\n",
       "      <th>...</th>\n",
       "      <td>...</td>\n",
       "      <td>...</td>\n",
       "      <td>...</td>\n",
       "      <td>...</td>\n",
       "      <td>...</td>\n",
       "    </tr>\n",
       "    <tr>\n",
       "      <th>포토샵 유치원_일러스트레이터 유치원</th>\n",
       "      <td>937205</td>\n",
       "      <td>218</td>\n",
       "      <td>0.69</td>\n",
       "      <td>8429</td>\n",
       "      <td>205161</td>\n",
       "    </tr>\n",
       "    <tr>\n",
       "      <th>프로그래밍 유치원</th>\n",
       "      <td>47373</td>\n",
       "      <td>62</td>\n",
       "      <td>1.84</td>\n",
       "      <td>16260</td>\n",
       "      <td>188936</td>\n",
       "    </tr>\n",
       "    <tr>\n",
       "      <th>프로그래밍 전체</th>\n",
       "      <td>1084500</td>\n",
       "      <td>110</td>\n",
       "      <td>0.26</td>\n",
       "      <td>1487</td>\n",
       "      <td>19514</td>\n",
       "    </tr>\n",
       "    <tr>\n",
       "      <th>프로그래밍 전체_파워컨텐츠_블록체인(삭제)</th>\n",
       "      <td>196060</td>\n",
       "      <td>7033</td>\n",
       "      <td>10.93</td>\n",
       "      <td>578</td>\n",
       "      <td>1293479</td>\n",
       "    </tr>\n",
       "    <tr>\n",
       "      <th>프론트엔드 개발 스쿨 12기_기존 키워드</th>\n",
       "      <td>2015</td>\n",
       "      <td>2</td>\n",
       "      <td>0.10</td>\n",
       "      <td>64</td>\n",
       "      <td>154</td>\n",
       "    </tr>\n",
       "  </tbody>\n",
       "</table>\n",
       "<p>186 rows × 5 columns</p>\n",
       "</div>"
      ],
      "text/plain": [
       "                             노출수   클릭수  클릭률(%)  평균클릭비용(VAT포함,원)  총비용(VAT포함,원)\n",
       "광고그룹                                                                         \n",
       "#000_마케팅 전체_main          709447   401    8.83            30003        347710\n",
       "001.BASIC DESIGN           51647    60    2.04             2688         21846\n",
       "001.데이터분석/ 통계              37150   202    8.89            10217        195756\n",
       "002.R                     120724    78    1.03             3240         43164\n",
       "002.UX/UI                  15454    20    0.42              350          2750\n",
       "...                          ...   ...     ...              ...           ...\n",
       "포토샵 유치원_일러스트레이터 유치원       937205   218    0.69             8429        205161\n",
       "프로그래밍 유치원                  47373    62    1.84            16260        188936\n",
       "프로그래밍 전체                 1084500   110    0.26             1487         19514\n",
       "프로그래밍 전체_파워컨텐츠_블록체인(삭제)   196060  7033   10.93              578       1293479\n",
       "프론트엔드 개발 스쿨 12기_기존 키워드      2015     2    0.10               64           154\n",
       "\n",
       "[186 rows x 5 columns]"
      ]
     },
     "execution_count": 109,
     "metadata": {},
     "output_type": "execute_result"
    }
   ],
   "source": [
    "grouped.sum()   # 그룹데이터의 합계"
   ]
  },
  {
   "cell_type": "markdown",
   "metadata": {},
   "source": [
    "**키워드 -> 광고그룹으로 기준이 바뀜에따라 클릭률, 평균클릭비용 칼럼의 전처리 필요**"
   ]
  },
  {
   "cell_type": "code",
   "execution_count": 110,
   "metadata": {},
   "outputs": [],
   "source": [
    "ad_grouped = grouped.sum()"
   ]
  },
  {
   "cell_type": "code",
   "execution_count": 111,
   "metadata": {},
   "outputs": [],
   "source": [
    "ad_grouped['클릭률(%)'] = ad_grouped['클릭수']/ad_grouped['노출수']"
   ]
  },
  {
   "cell_type": "code",
   "execution_count": 112,
   "metadata": {},
   "outputs": [],
   "source": [
    "ad_grouped['평균클릭비용(VAT포함,원)'] = ad_grouped['총비용(VAT포함,원)']/ad_grouped['클릭수']"
   ]
  },
  {
   "cell_type": "markdown",
   "metadata": {},
   "source": [
    "결측치 확인"
   ]
  },
  {
   "cell_type": "code",
   "execution_count": 116,
   "metadata": {},
   "outputs": [
    {
     "data": {
      "text/html": [
       "<div>\n",
       "<style scoped>\n",
       "    .dataframe tbody tr th:only-of-type {\n",
       "        vertical-align: middle;\n",
       "    }\n",
       "\n",
       "    .dataframe tbody tr th {\n",
       "        vertical-align: top;\n",
       "    }\n",
       "\n",
       "    .dataframe thead th {\n",
       "        text-align: right;\n",
       "    }\n",
       "</style>\n",
       "<table border=\"1\" class=\"dataframe\">\n",
       "  <thead>\n",
       "    <tr style=\"text-align: right;\">\n",
       "      <th></th>\n",
       "      <th>노출수</th>\n",
       "      <th>클릭수</th>\n",
       "      <th>클릭률(%)</th>\n",
       "      <th>평균클릭비용(VAT포함,원)</th>\n",
       "      <th>총비용(VAT포함,원)</th>\n",
       "    </tr>\n",
       "    <tr>\n",
       "      <th>광고그룹</th>\n",
       "      <th></th>\n",
       "      <th></th>\n",
       "      <th></th>\n",
       "      <th></th>\n",
       "      <th></th>\n",
       "    </tr>\n",
       "  </thead>\n",
       "  <tbody>\n",
       "    <tr>\n",
       "      <th>Hyperledger Fabric 프로젝트 CAMP</th>\n",
       "      <td>1990</td>\n",
       "      <td>0</td>\n",
       "      <td>0.00</td>\n",
       "      <td>0.00</td>\n",
       "      <td>0</td>\n",
       "    </tr>\n",
       "    <tr>\n",
       "      <th>fin_camp_business_4</th>\n",
       "      <td>2136</td>\n",
       "      <td>0</td>\n",
       "      <td>0.00</td>\n",
       "      <td>0.00</td>\n",
       "      <td>0</td>\n",
       "    </tr>\n",
       "    <tr>\n",
       "      <th>fin_camp_rfs_9</th>\n",
       "      <td>1928</td>\n",
       "      <td>0</td>\n",
       "      <td>0.00</td>\n",
       "      <td>0.00</td>\n",
       "      <td>0</td>\n",
       "    </tr>\n",
       "    <tr>\n",
       "      <th>다함께 DDD 프로젝트</th>\n",
       "      <td>3689</td>\n",
       "      <td>0</td>\n",
       "      <td>0.00</td>\n",
       "      <td>0.00</td>\n",
       "      <td>0</td>\n",
       "    </tr>\n",
       "    <tr>\n",
       "      <th>올인원 패키지 : 디지털 마케팅_인스타광고</th>\n",
       "      <td>1377</td>\n",
       "      <td>0</td>\n",
       "      <td>0.00</td>\n",
       "      <td>0.00</td>\n",
       "      <td>0</td>\n",
       "    </tr>\n",
       "  </tbody>\n",
       "</table>\n",
       "</div>"
      ],
      "text/plain": [
       "                               노출수  클릭수  클릭률(%)  평균클릭비용(VAT포함,원)  총비용(VAT포함,원)\n",
       "광고그룹                                                                          \n",
       "Hyperledger Fabric 프로젝트 CAMP  1990    0    0.00             0.00             0\n",
       "fin_camp_business_4           2136    0    0.00             0.00             0\n",
       "fin_camp_rfs_9                1928    0    0.00             0.00             0\n",
       "다함께 DDD 프로젝트                  3689    0    0.00             0.00             0\n",
       "올인원 패키지 : 디지털 마케팅_인스타광고       1377    0    0.00             0.00             0"
      ]
     },
     "execution_count": 116,
     "metadata": {},
     "output_type": "execute_result"
    }
   ],
   "source": [
    "ad_grouped[ad_grouped['클릭수']==0]"
   ]
  },
  {
   "cell_type": "markdown",
   "metadata": {},
   "source": [
    "fillna() - 전달된 값으로 결측값을 대체하는 함수"
   ]
  },
  {
   "cell_type": "code",
   "execution_count": 115,
   "metadata": {},
   "outputs": [],
   "source": [
    "ad_grouped['평균클릭비용(VAT포함,원)'] = ad_grouped['평균클릭비용(VAT포함,원)'].fillna(0)"
   ]
  },
  {
   "cell_type": "code",
   "execution_count": 117,
   "metadata": {},
   "outputs": [
    {
     "data": {
      "text/html": [
       "<div>\n",
       "<style scoped>\n",
       "    .dataframe tbody tr th:only-of-type {\n",
       "        vertical-align: middle;\n",
       "    }\n",
       "\n",
       "    .dataframe tbody tr th {\n",
       "        vertical-align: top;\n",
       "    }\n",
       "\n",
       "    .dataframe thead th {\n",
       "        text-align: right;\n",
       "    }\n",
       "</style>\n",
       "<table border=\"1\" class=\"dataframe\">\n",
       "  <thead>\n",
       "    <tr style=\"text-align: right;\">\n",
       "      <th></th>\n",
       "      <th>노출수</th>\n",
       "      <th>클릭수</th>\n",
       "      <th>클릭률(%)</th>\n",
       "      <th>평균클릭비용(VAT포함,원)</th>\n",
       "      <th>총비용(VAT포함,원)</th>\n",
       "    </tr>\n",
       "    <tr>\n",
       "      <th>광고그룹</th>\n",
       "      <th></th>\n",
       "      <th></th>\n",
       "      <th></th>\n",
       "      <th></th>\n",
       "      <th></th>\n",
       "    </tr>\n",
       "  </thead>\n",
       "  <tbody>\n",
       "    <tr>\n",
       "      <th>Hyperledger Fabric 프로젝트 CAMP</th>\n",
       "      <td>1990</td>\n",
       "      <td>0</td>\n",
       "      <td>0.00</td>\n",
       "      <td>0.00</td>\n",
       "      <td>0</td>\n",
       "    </tr>\n",
       "    <tr>\n",
       "      <th>fin_camp_business_4</th>\n",
       "      <td>2136</td>\n",
       "      <td>0</td>\n",
       "      <td>0.00</td>\n",
       "      <td>0.00</td>\n",
       "      <td>0</td>\n",
       "    </tr>\n",
       "    <tr>\n",
       "      <th>fin_camp_rfs_9</th>\n",
       "      <td>1928</td>\n",
       "      <td>0</td>\n",
       "      <td>0.00</td>\n",
       "      <td>0.00</td>\n",
       "      <td>0</td>\n",
       "    </tr>\n",
       "    <tr>\n",
       "      <th>다함께 DDD 프로젝트</th>\n",
       "      <td>3689</td>\n",
       "      <td>0</td>\n",
       "      <td>0.00</td>\n",
       "      <td>0.00</td>\n",
       "      <td>0</td>\n",
       "    </tr>\n",
       "    <tr>\n",
       "      <th>올인원 패키지 : 디지털 마케팅_인스타광고</th>\n",
       "      <td>1377</td>\n",
       "      <td>0</td>\n",
       "      <td>0.00</td>\n",
       "      <td>0.00</td>\n",
       "      <td>0</td>\n",
       "    </tr>\n",
       "  </tbody>\n",
       "</table>\n",
       "</div>"
      ],
      "text/plain": [
       "                               노출수  클릭수  클릭률(%)  평균클릭비용(VAT포함,원)  총비용(VAT포함,원)\n",
       "광고그룹                                                                          \n",
       "Hyperledger Fabric 프로젝트 CAMP  1990    0    0.00             0.00             0\n",
       "fin_camp_business_4           2136    0    0.00             0.00             0\n",
       "fin_camp_rfs_9                1928    0    0.00             0.00             0\n",
       "다함께 DDD 프로젝트                  3689    0    0.00             0.00             0\n",
       "올인원 패키지 : 디지털 마케팅_인스타광고       1377    0    0.00             0.00             0"
      ]
     },
     "execution_count": 117,
     "metadata": {},
     "output_type": "execute_result"
    }
   ],
   "source": [
    "ad_grouped[ad_grouped['클릭수']==0]"
   ]
  },
  {
   "cell_type": "markdown",
   "metadata": {},
   "source": [
    "소수점 제거 및 정수화"
   ]
  },
  {
   "cell_type": "code",
   "execution_count": 118,
   "metadata": {},
   "outputs": [
    {
     "data": {
      "text/html": [
       "<div>\n",
       "<style scoped>\n",
       "    .dataframe tbody tr th:only-of-type {\n",
       "        vertical-align: middle;\n",
       "    }\n",
       "\n",
       "    .dataframe tbody tr th {\n",
       "        vertical-align: top;\n",
       "    }\n",
       "\n",
       "    .dataframe thead th {\n",
       "        text-align: right;\n",
       "    }\n",
       "</style>\n",
       "<table border=\"1\" class=\"dataframe\">\n",
       "  <thead>\n",
       "    <tr style=\"text-align: right;\">\n",
       "      <th></th>\n",
       "      <th>노출수</th>\n",
       "      <th>클릭수</th>\n",
       "      <th>클릭률(%)</th>\n",
       "      <th>평균클릭비용(VAT포함,원)</th>\n",
       "      <th>총비용(VAT포함,원)</th>\n",
       "    </tr>\n",
       "    <tr>\n",
       "      <th>광고그룹</th>\n",
       "      <th></th>\n",
       "      <th></th>\n",
       "      <th></th>\n",
       "      <th></th>\n",
       "      <th></th>\n",
       "    </tr>\n",
       "  </thead>\n",
       "  <tbody>\n",
       "    <tr>\n",
       "      <th>#000_마케팅 전체_main</th>\n",
       "      <td>709447</td>\n",
       "      <td>401</td>\n",
       "      <td>0.00</td>\n",
       "      <td>867</td>\n",
       "      <td>347710</td>\n",
       "    </tr>\n",
       "    <tr>\n",
       "      <th>001.BASIC DESIGN</th>\n",
       "      <td>51647</td>\n",
       "      <td>60</td>\n",
       "      <td>0.00</td>\n",
       "      <td>364</td>\n",
       "      <td>21846</td>\n",
       "    </tr>\n",
       "    <tr>\n",
       "      <th>001.데이터분석/ 통계</th>\n",
       "      <td>37150</td>\n",
       "      <td>202</td>\n",
       "      <td>0.01</td>\n",
       "      <td>969</td>\n",
       "      <td>195756</td>\n",
       "    </tr>\n",
       "    <tr>\n",
       "      <th>002.R</th>\n",
       "      <td>120724</td>\n",
       "      <td>78</td>\n",
       "      <td>0.00</td>\n",
       "      <td>553</td>\n",
       "      <td>43164</td>\n",
       "    </tr>\n",
       "    <tr>\n",
       "      <th>002.UX/UI</th>\n",
       "      <td>15454</td>\n",
       "      <td>20</td>\n",
       "      <td>0.00</td>\n",
       "      <td>138</td>\n",
       "      <td>2750</td>\n",
       "    </tr>\n",
       "    <tr>\n",
       "      <th>...</th>\n",
       "      <td>...</td>\n",
       "      <td>...</td>\n",
       "      <td>...</td>\n",
       "      <td>...</td>\n",
       "      <td>...</td>\n",
       "    </tr>\n",
       "    <tr>\n",
       "      <th>포토샵 유치원_일러스트레이터 유치원</th>\n",
       "      <td>937205</td>\n",
       "      <td>218</td>\n",
       "      <td>0.00</td>\n",
       "      <td>941</td>\n",
       "      <td>205161</td>\n",
       "    </tr>\n",
       "    <tr>\n",
       "      <th>프로그래밍 유치원</th>\n",
       "      <td>47373</td>\n",
       "      <td>62</td>\n",
       "      <td>0.00</td>\n",
       "      <td>3047</td>\n",
       "      <td>188936</td>\n",
       "    </tr>\n",
       "    <tr>\n",
       "      <th>프로그래밍 전체</th>\n",
       "      <td>1084500</td>\n",
       "      <td>110</td>\n",
       "      <td>0.00</td>\n",
       "      <td>177</td>\n",
       "      <td>19514</td>\n",
       "    </tr>\n",
       "    <tr>\n",
       "      <th>프로그래밍 전체_파워컨텐츠_블록체인(삭제)</th>\n",
       "      <td>196060</td>\n",
       "      <td>7033</td>\n",
       "      <td>0.04</td>\n",
       "      <td>184</td>\n",
       "      <td>1293479</td>\n",
       "    </tr>\n",
       "    <tr>\n",
       "      <th>프론트엔드 개발 스쿨 12기_기존 키워드</th>\n",
       "      <td>2015</td>\n",
       "      <td>2</td>\n",
       "      <td>0.00</td>\n",
       "      <td>77</td>\n",
       "      <td>154</td>\n",
       "    </tr>\n",
       "  </tbody>\n",
       "</table>\n",
       "<p>186 rows × 5 columns</p>\n",
       "</div>"
      ],
      "text/plain": [
       "                             노출수   클릭수  클릭률(%)  평균클릭비용(VAT포함,원)  총비용(VAT포함,원)\n",
       "광고그룹                                                                         \n",
       "#000_마케팅 전체_main          709447   401    0.00              867        347710\n",
       "001.BASIC DESIGN           51647    60    0.00              364         21846\n",
       "001.데이터분석/ 통계              37150   202    0.01              969        195756\n",
       "002.R                     120724    78    0.00              553         43164\n",
       "002.UX/UI                  15454    20    0.00              138          2750\n",
       "...                          ...   ...     ...              ...           ...\n",
       "포토샵 유치원_일러스트레이터 유치원       937205   218    0.00              941        205161\n",
       "프로그래밍 유치원                  47373    62    0.00             3047        188936\n",
       "프로그래밍 전체                 1084500   110    0.00              177         19514\n",
       "프로그래밍 전체_파워컨텐츠_블록체인(삭제)   196060  7033    0.04              184       1293479\n",
       "프론트엔드 개발 스쿨 12기_기존 키워드      2015     2    0.00               77           154\n",
       "\n",
       "[186 rows x 5 columns]"
      ]
     },
     "execution_count": 118,
     "metadata": {},
     "output_type": "execute_result"
    }
   ],
   "source": [
    "ad_grouped['평균클릭비용(VAT포함,원)'] = round(ad_grouped['평균클릭비용(VAT포함,원)'], 0)\n",
    "ad_grouped['평균클릭비용(VAT포함,원)'] = ad_grouped['평균클릭비용(VAT포함,원)'].astype(int)\n",
    "ad_grouped"
   ]
  },
  {
   "cell_type": "markdown",
   "metadata": {},
   "source": [
    "### 데이터 시각화"
   ]
  },
  {
   "cell_type": "code",
   "execution_count": 121,
   "metadata": {},
   "outputs": [
    {
     "data": {
      "image/png": "[encoded data removed]",
      "text/plain": [
       "<Figure size 432x288 with 1 Axes>"
      ]
     },
     "metadata": {
      "needs_background": "light"
     },
     "output_type": "display_data"
    }
   ],
   "source": [
    "ad_grouped['노출수'].plot()\n",
    "plt.show()"
   ]
  },
  {
   "cell_type": "markdown",
   "metadata": {},
   "source": [
    "#### 노출수 정렬 및 시각화"
   ]
  },
  {
   "cell_type": "code",
   "execution_count": 122,
   "metadata": {},
   "outputs": [
    {
     "data": {
      "image/png": "[encoded data removed]",
      "text/plain": [
       "<Figure size 432x288 with 1 Axes>"
      ]
     },
     "metadata": {
      "needs_background": "light"
     },
     "output_type": "display_data"
    }
   ],
   "source": [
    "(((ad_grouped['노출수'].sort_values()).reset_index()).drop('광고그룹',axis = 1)).plot()\n",
    "plt.show()"
   ]
  },
  {
   "cell_type": "markdown",
   "metadata": {},
   "source": [
    "#### 클릭수 정렬 및 시각화"
   ]
  },
  {
   "cell_type": "code",
   "execution_count": 123,
   "metadata": {},
   "outputs": [
    {
     "data": {
      "image/png": "[encoded data removed]",
      "text/plain": [
       "<Figure size 432x288 with 1 Axes>"
      ]
     },
     "metadata": {
      "needs_background": "light"
     },
     "output_type": "display_data"
    }
   ],
   "source": [
    "(((ad_grouped['클릭수'].sort_values()).reset_index()).drop('광고그룹',axis = 1)).plot()\n",
    "plt.show()"
   ]
  },
  {
   "cell_type": "markdown",
   "metadata": {},
   "source": [
    "#### 총비용 정렬 및 시각화"
   ]
  },
  {
   "cell_type": "code",
   "execution_count": 124,
   "metadata": {},
   "outputs": [
    {
     "data": {
      "image/png": "[encoded data removed]",
      "text/plain": [
       "<Figure size 432x288 with 1 Axes>"
      ]
     },
     "metadata": {
      "needs_background": "light"
     },
     "output_type": "display_data"
    }
   ],
   "source": [
    "(((ad_grouped['총비용(VAT포함,원)'].sort_values()).reset_index()).drop('광고그룹',axis = 1)).plot()\n",
    "plt.show()"
   ]
  },
  {
   "cell_type": "markdown",
   "metadata": {},
   "source": [
    "### 중점관리 광고그룹 추출\n",
    "\n",
    "* 중점관리 광고그룹\n",
    "    1. 상위 20%(노출수 80백분위수 이상)\n",
    "    2. 상위 10%(클릭수 90백분위수 이상)"
   ]
  },
  {
   "cell_type": "code",
   "execution_count": 125,
   "metadata": {},
   "outputs": [],
   "source": [
    "imp = ad_grouped['노출수']\n",
    "clk = ad_grouped['클릭수']"
   ]
  },
  {
   "cell_type": "code",
   "execution_count": 127,
   "metadata": {},
   "outputs": [
    {
     "data": {
      "text/html": [
       "<div>\n",
       "<style scoped>\n",
       "    .dataframe tbody tr th:only-of-type {\n",
       "        vertical-align: middle;\n",
       "    }\n",
       "\n",
       "    .dataframe tbody tr th {\n",
       "        vertical-align: top;\n",
       "    }\n",
       "\n",
       "    .dataframe thead th {\n",
       "        text-align: right;\n",
       "    }\n",
       "</style>\n",
       "<table border=\"1\" class=\"dataframe\">\n",
       "  <thead>\n",
       "    <tr style=\"text-align: right;\">\n",
       "      <th></th>\n",
       "      <th>노출수</th>\n",
       "      <th>클릭수</th>\n",
       "      <th>클릭률(%)</th>\n",
       "      <th>평균클릭비용(VAT포함,원)</th>\n",
       "      <th>총비용(VAT포함,원)</th>\n",
       "    </tr>\n",
       "    <tr>\n",
       "      <th>광고그룹</th>\n",
       "      <th></th>\n",
       "      <th></th>\n",
       "      <th></th>\n",
       "      <th></th>\n",
       "      <th></th>\n",
       "    </tr>\n",
       "  </thead>\n",
       "  <tbody>\n",
       "    <tr>\n",
       "      <th>#000_마케팅 전체_main</th>\n",
       "      <td>709447</td>\n",
       "      <td>401</td>\n",
       "      <td>0.00</td>\n",
       "      <td>867</td>\n",
       "      <td>347710</td>\n",
       "    </tr>\n",
       "    <tr>\n",
       "      <th>1. 코딩</th>\n",
       "      <td>630038</td>\n",
       "      <td>671</td>\n",
       "      <td>0.00</td>\n",
       "      <td>2498</td>\n",
       "      <td>1676125</td>\n",
       "    </tr>\n",
       "    <tr>\n",
       "      <th>3. html</th>\n",
       "      <td>9683503</td>\n",
       "      <td>829</td>\n",
       "      <td>0.00</td>\n",
       "      <td>1389</td>\n",
       "      <td>1151601</td>\n",
       "    </tr>\n",
       "    <tr>\n",
       "      <th>6. 파이썬</th>\n",
       "      <td>465292</td>\n",
       "      <td>488</td>\n",
       "      <td>0.00</td>\n",
       "      <td>3195</td>\n",
       "      <td>1559107</td>\n",
       "    </tr>\n",
       "    <tr>\n",
       "      <th>AOP 전체_중복키워드_디자인</th>\n",
       "      <td>3388256</td>\n",
       "      <td>1176</td>\n",
       "      <td>0.00</td>\n",
       "      <td>2118</td>\n",
       "      <td>2490708</td>\n",
       "    </tr>\n",
       "    <tr>\n",
       "      <th>AOP 전체_중복키워드_비지니스</th>\n",
       "      <td>1528568</td>\n",
       "      <td>636</td>\n",
       "      <td>0.00</td>\n",
       "      <td>1759</td>\n",
       "      <td>1118678</td>\n",
       "    </tr>\n",
       "    <tr>\n",
       "      <th>ㅍAOP 전체_중복키워드_디자인(삭제)</th>\n",
       "      <td>3936637</td>\n",
       "      <td>1050</td>\n",
       "      <td>0.00</td>\n",
       "      <td>2564</td>\n",
       "      <td>2692591</td>\n",
       "    </tr>\n",
       "    <tr>\n",
       "      <th>마케팅 전체</th>\n",
       "      <td>3984480</td>\n",
       "      <td>421</td>\n",
       "      <td>0.00</td>\n",
       "      <td>227</td>\n",
       "      <td>95546</td>\n",
       "    </tr>\n",
       "    <tr>\n",
       "      <th>올인원 패키지 : 데이터 분석 입문 온라인_파콘</th>\n",
       "      <td>742689</td>\n",
       "      <td>3079</td>\n",
       "      <td>0.00</td>\n",
       "      <td>524</td>\n",
       "      <td>1614151</td>\n",
       "    </tr>\n",
       "    <tr>\n",
       "      <th>올인원 패키지 : 디자인 툴_파워컨텐츠_포토샵</th>\n",
       "      <td>2598066</td>\n",
       "      <td>17870</td>\n",
       "      <td>0.01</td>\n",
       "      <td>261</td>\n",
       "      <td>4666156</td>\n",
       "    </tr>\n",
       "    <tr>\n",
       "      <th>올인원 패키지 : 업무자동화_VBA</th>\n",
       "      <td>1509666</td>\n",
       "      <td>20641</td>\n",
       "      <td>0.01</td>\n",
       "      <td>271</td>\n",
       "      <td>5601926</td>\n",
       "    </tr>\n",
       "    <tr>\n",
       "      <th>타이포그래피와 편집디자인</th>\n",
       "      <td>1002169</td>\n",
       "      <td>1136</td>\n",
       "      <td>0.00</td>\n",
       "      <td>377</td>\n",
       "      <td>428318</td>\n",
       "    </tr>\n",
       "    <tr>\n",
       "      <th>프로그래밍 전체_파워컨텐츠_블록체인(삭제)</th>\n",
       "      <td>196060</td>\n",
       "      <td>7033</td>\n",
       "      <td>0.04</td>\n",
       "      <td>184</td>\n",
       "      <td>1293479</td>\n",
       "    </tr>\n",
       "  </tbody>\n",
       "</table>\n",
       "</div>"
      ],
      "text/plain": [
       "                                노출수    클릭수  클릭률(%)  평균클릭비용(VAT포함,원)  \\\n",
       "광고그룹                                                                  \n",
       "#000_마케팅 전체_main             709447    401    0.00              867   \n",
       "1. 코딩                        630038    671    0.00             2498   \n",
       "3. html                     9683503    829    0.00             1389   \n",
       "6. 파이썬                       465292    488    0.00             3195   \n",
       "AOP 전체_중복키워드_디자인            3388256   1176    0.00             2118   \n",
       "AOP 전체_중복키워드_비지니스           1528568    636    0.00             1759   \n",
       "ㅍAOP 전체_중복키워드_디자인(삭제)       3936637   1050    0.00             2564   \n",
       "마케팅 전체                      3984480    421    0.00              227   \n",
       "올인원 패키지 : 데이터 분석 입문 온라인_파콘   742689   3079    0.00              524   \n",
       "올인원 패키지 : 디자인 툴_파워컨텐츠_포토샵   2598066  17870    0.01              261   \n",
       "올인원 패키지 : 업무자동화_VBA         1509666  20641    0.01              271   \n",
       "타이포그래피와 편집디자인               1002169   1136    0.00              377   \n",
       "프로그래밍 전체_파워컨텐츠_블록체인(삭제)      196060   7033    0.04              184   \n",
       "\n",
       "                            총비용(VAT포함,원)  \n",
       "광고그룹                                      \n",
       "#000_마케팅 전체_main                  347710  \n",
       "1. 코딩                            1676125  \n",
       "3. html                          1151601  \n",
       "6. 파이썬                           1559107  \n",
       "AOP 전체_중복키워드_디자인                 2490708  \n",
       "AOP 전체_중복키워드_비지니스                1118678  \n",
       "ㅍAOP 전체_중복키워드_디자인(삭제)            2692591  \n",
       "마케팅 전체                             95546  \n",
       "올인원 패키지 : 데이터 분석 입문 온라인_파콘       1614151  \n",
       "올인원 패키지 : 디자인 툴_파워컨텐츠_포토샵        4666156  \n",
       "올인원 패키지 : 업무자동화_VBA              5601926  \n",
       "타이포그래피와 편집디자인                     428318  \n",
       "프로그래밍 전체_파워컨텐츠_블록체인(삭제)          1293479  "
      ]
     },
     "execution_count": 127,
     "metadata": {},
     "output_type": "execute_result"
    }
   ],
   "source": [
    "result = ad_grouped[(imp >= imp.quantile(0.80)) & (clk >= clk.quantile(0.90))]\n",
    "result.index"
   ]
  },
  {
   "cell_type": "markdown",
   "metadata": {},
   "source": [
    "### 저효율 광고그룹 추출\n",
    "\n",
    "* 저효율 광고그룹\n",
    "     1. 노출수 80백분위수 미만\n",
    "     2. 클릭수 90백분위수 미만\n",
    "     3. 총비용 60백분위수 이상\n",
    "     4. 총비용 90백분위수 미만"
   ]
  },
  {
   "cell_type": "code",
   "execution_count": 128,
   "metadata": {},
   "outputs": [],
   "source": [
    "cost = ad_grouped['총비용(VAT포함,원)']"
   ]
  },
  {
   "cell_type": "code",
   "execution_count": 130,
   "metadata": {},
   "outputs": [
    {
     "data": {
      "text/plain": [
       "Index(['001.데이터분석/ 통계', '002.마케팅 입문', '003.퍼포먼스 마케팅', '1. 전체', '2. 프로그래밍',\n",
       "       '5. 자료구조', 'AOP 전체_중복키워드_공통', 'AOP 전체_중복키워드_데이터사이언스',\n",
       "       'AOP 전체_중복키워드_프로그래밍', 'JavaScript BOOT CAMP',\n",
       "       'Python & Django를 활용한 웹 서비스_개발자', 'SEO/SEM 전략',\n",
       "       'TensorFlow로 시작하는 딥러닝 입문', 'fin_camp_auction_6', 'ㅍAOP 전체_중복키워드_공통(삭제)',\n",
       "       'ㅍAOP 전체_중복키워드_마케팅(삭제)', 'ㅍAOP 전체_중복키워드_프로그래밍(삭제)',\n",
       "       'ㅍ올인원 패키지 : UX/UI 디자인 입문_연관검색어(삭제)', 'ㅍ올인원 패키지 : 브랜딩',\n",
       "       '고객의 마음을 읽는 구글애널리틱스', '대기업을 이기는 브랜딩 전략', '마케터를 위한 데이터 부트캠프',\n",
       "       '마케터를 위한 데이터 해석 실전', '마케팅 유치원', '마케팅KPI수립',\n",
       "       '올인원 패키지 : 1인 쇼핑몰 시작하기_02.쇼핑몰구축', '올인원 패키지 : 1인 쇼핑몰_00.창업_MO',\n",
       "       '올인원 패키지 : UX/UI 디자인 입문_연관검색어', '올인원 패키지 : 그로스해킹_5.마케팅 분석',\n",
       "       '올인원 패키지 : 디지털 마케팅_1. 디지털 마케팅', '올인원 패키지 : 브랜딩',\n",
       "       '올인원 패키지 : 업무자동화_1. 자동화', '올인원 패키지 : 업무자동화_4. VBA',\n",
       "       '올인원 패키지 : 영상 제작/편집_9.유튜브/유튜버', '왕초보의 파이썬 웹 프로그래밍 CAMP',\n",
       "       '코딩으로 여행하는 블록체인 서비스', '페이스북&인스타그램 마케팅 실전', '프로그래밍 유치원'],\n",
       "      dtype='object', name='광고그룹')"
      ]
     },
     "execution_count": 130,
     "metadata": {},
     "output_type": "execute_result"
    }
   ],
   "source": [
    "result = ad_grouped[(imp <= imp.quantile(0.80)) & (clk <= clk.quantile(0.90)) & (cost >= cost.quantile(0.60)) & (cost <= cost.quantile(0.90))]\n",
    "result.index"
   ]
  }
 ],
 "metadata": {
  "kernelspec": {
   "display_name": "Python 3",
   "language": "python",
   "name": "python3"
  },
  "language_info": {
   "codemirror_mode": {
    "name": "ipython",
    "version": 3
   },
   "file_extension": ".py",
   "mimetype": "text/x-python",
   "name": "python",
   "nbconvert_exporter": "python",
   "pygments_lexer": "ipython3",
   "version": "3.8.5"
  }
 },
 "nbformat": 4,
 "nbformat_minor": 4
}
